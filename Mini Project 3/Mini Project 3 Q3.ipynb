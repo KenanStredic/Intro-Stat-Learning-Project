{
 "cells": [
  {
   "cell_type": "code",
   "execution_count": 51,
   "id": "c42438a6",
   "metadata": {},
   "outputs": [
    {
     "name": "stdout",
     "output_type": "stream",
     "text": [
      "    pos   osm  diff\n",
      "0   100  99.7   0.3\n",
      "1   100  99.8   0.2\n",
      "2    99  99.1   0.1\n",
      "3    99  99.7   0.7\n",
      "4    99  98.5   0.5\n",
      "..  ...   ...   ...\n",
      "67   74  75.0   1.0\n",
      "68   74  75.6   1.6\n",
      "69   78  77.0   1.0\n",
      "70   77  77.6   0.6\n",
      "71   76  74.8   1.2\n",
      "\n",
      "[72 rows x 3 columns]\n"
     ]
    }
   ],
   "source": [
    "import numpy as np\n",
    "import pandas as pan\n",
    "import matplotlib.pyplot as plot\n",
    "%matplotlib inline\n",
    "import seaborn as sns\n",
    "\n",
    "# Read Oxygen Saturation Dataset\n",
    "df = pan.read_csv('oxygen_saturation.txt', sep=\"\\t\", header=0)\n",
    "# Add the absolute value of the differnce between the two methods\n",
    "df['diff'] = (df['pos'] - df['osm']).abs()\n",
    "print(df)"
   ]
  },
  {
   "cell_type": "code",
   "execution_count": 52,
   "id": "a742a4f9",
   "metadata": {},
   "outputs": [
    {
     "data": {
      "text/html": [
       "<div>\n",
       "<style scoped>\n",
       "    .dataframe tbody tr th:only-of-type {\n",
       "        vertical-align: middle;\n",
       "    }\n",
       "\n",
       "    .dataframe tbody tr th {\n",
       "        vertical-align: top;\n",
       "    }\n",
       "\n",
       "    .dataframe thead th {\n",
       "        text-align: right;\n",
       "    }\n",
       "</style>\n",
       "<table border=\"1\" class=\"dataframe\">\n",
       "  <thead>\n",
       "    <tr style=\"text-align: right;\">\n",
       "      <th></th>\n",
       "      <th>pos</th>\n",
       "      <th>osm</th>\n",
       "      <th>diff</th>\n",
       "    </tr>\n",
       "  </thead>\n",
       "  <tbody>\n",
       "    <tr>\n",
       "      <th>count</th>\n",
       "      <td>72.000000</td>\n",
       "      <td>72.000000</td>\n",
       "      <td>72.000000</td>\n",
       "    </tr>\n",
       "    <tr>\n",
       "      <th>mean</th>\n",
       "      <td>89.083333</td>\n",
       "      <td>89.495833</td>\n",
       "      <td>1.095833</td>\n",
       "    </tr>\n",
       "    <tr>\n",
       "      <th>std</th>\n",
       "      <td>8.762516</td>\n",
       "      <td>8.695837</td>\n",
       "      <td>0.648821</td>\n",
       "    </tr>\n",
       "    <tr>\n",
       "      <th>min</th>\n",
       "      <td>70.000000</td>\n",
       "      <td>70.900000</td>\n",
       "      <td>0.000000</td>\n",
       "    </tr>\n",
       "    <tr>\n",
       "      <th>25%</th>\n",
       "      <td>82.000000</td>\n",
       "      <td>83.500000</td>\n",
       "      <td>0.600000</td>\n",
       "    </tr>\n",
       "    <tr>\n",
       "      <th>50%</th>\n",
       "      <td>89.500000</td>\n",
       "      <td>91.200000</td>\n",
       "      <td>1.050000</td>\n",
       "    </tr>\n",
       "    <tr>\n",
       "      <th>75%</th>\n",
       "      <td>97.000000</td>\n",
       "      <td>96.950000</td>\n",
       "      <td>1.600000</td>\n",
       "    </tr>\n",
       "    <tr>\n",
       "      <th>max</th>\n",
       "      <td>100.000000</td>\n",
       "      <td>99.800000</td>\n",
       "      <td>2.500000</td>\n",
       "    </tr>\n",
       "  </tbody>\n",
       "</table>\n",
       "</div>"
      ],
      "text/plain": [
       "              pos        osm       diff\n",
       "count   72.000000  72.000000  72.000000\n",
       "mean    89.083333  89.495833   1.095833\n",
       "std      8.762516   8.695837   0.648821\n",
       "min     70.000000  70.900000   0.000000\n",
       "25%     82.000000  83.500000   0.600000\n",
       "50%     89.500000  91.200000   1.050000\n",
       "75%     97.000000  96.950000   1.600000\n",
       "max    100.000000  99.800000   2.500000"
      ]
     },
     "execution_count": 52,
     "metadata": {},
     "output_type": "execute_result"
    }
   ],
   "source": [
    "df.describe()"
   ]
  },
  {
   "cell_type": "code",
   "execution_count": 53,
   "id": "3e8a2d7f",
   "metadata": {},
   "outputs": [
    {
     "data": {
      "text/plain": [
       "(68.0, 102.0)"
      ]
     },
     "execution_count": 53,
     "metadata": {},
     "output_type": "execute_result"
    },
    {
     "data": {
      "image/png": "[encoded data removed]",
      "text/plain": [
       "<Figure size 432x288 with 1 Axes>"
      ]
     },
     "metadata": {
      "needs_background": "light"
     },
     "output_type": "display_data"
    }
   ],
   "source": [
    "df.plot.scatter(x = 'pos', y = 'osm')\n",
    "plot.axline([0, 0], [1, 1])\n",
    "plot.xlim(68, 102)\n",
    "plot.ylim(68, 102)"
   ]
  },
  {
   "cell_type": "code",
   "execution_count": 54,
   "id": "040c715d",
   "metadata": {},
   "outputs": [
    {
     "data": {
      "image/png": "[encoded data removed]",
      "text/plain": [
       "<Figure size 432x288 with 1 Axes>"
      ]
     },
     "metadata": {
      "needs_background": "light"
     },
     "output_type": "display_data"
    }
   ],
   "source": [
    "df.boxplot(column='diff', return_type='axes');\n",
    "# These plots are not in perfect agreement, since all of the differences do not equal zero. "
   ]
  },
  {
   "cell_type": "code",
   "execution_count": null,
   "id": "96824ab5",
   "metadata": {},
   "outputs": [],
   "source": [
    "# Since the methods will be in perfect agreement if the differences equal zero,\n",
    "# we can assume that as the TDI decreases, the likelihood that the methods are in agreement increases. "
   ]
  },
  {
   "cell_type": "code",
   "execution_count": null,
   "id": "50cb84ef",
   "metadata": {},
   "outputs": [],
   "source": [
    "# Estimator = 2.1"
   ]
  },
  {
   "cell_type": "code",
   "execution_count": 61,
   "id": "963e2cbe",
   "metadata": {},
   "outputs": [
    {
     "data": {
      "image/png": "[encoded data removed]",
      "text/plain": [
       "<Figure size 432x288 with 1 Axes>"
      ]
     },
     "metadata": {
      "needs_background": "light"
     },
     "output_type": "display_data"
    }
   ],
   "source": [
    "def get_ecdf(data):\n",
    "    # Get lenght of the data into n\n",
    "    n = len(data)\n",
    "    \n",
    "    # We need to sort the data\n",
    "    x = np.sort(data)\n",
    "    \n",
    "    # the function will show us cumulative percentages of corresponding data points\n",
    "    y = np.arange(1,n+1)/n\n",
    "    \n",
    "    return x,y\n",
    "\n",
    "# Create a function to plot ecdf\n",
    "def plot_ecdf(data,labelx,labely,title,color):\n",
    "    # Call get_ecdf function and assign the returning values\n",
    "    x, y = get_ecdf(data)\n",
    "    \n",
    "    plot.plot(x,y,marker='.',linestyle='none',c=color)\n",
    "    plot.xlabel(labelx)\n",
    "    plot.ylabel(labely)\n",
    "    plot.title(title)\n",
    "    \n",
    "# Plotting Empirical CDF\n",
    "plot_ecdf(df['diff'],\"Difference\",\"percentage\",\"Empirical CDF\",\"r\")\n",
    "plot.show()"
   ]
  },
  {
   "cell_type": "code",
   "execution_count": 64,
   "id": "b0eca848",
   "metadata": {},
   "outputs": [
    {
     "name": "stderr",
     "output_type": "stream",
     "text": [
      "C:\\Users\\kstre_3ikvnbf\\anaconda3\\lib\\site-packages\\seaborn\\distributions.py:2619: FutureWarning: `distplot` is a deprecated function and will be removed in a future version. Please adapt your code to use either `displot` (a figure-level function with similar flexibility) or `kdeplot` (an axes-level function for kernel density plots).\n",
      "  warnings.warn(msg, FutureWarning)\n"
     ]
    },
    {
     "data": {
      "image/png": "[encoded data removed]",
      "text/plain": [
       "<Figure size 432x288 with 1 Axes>"
      ]
     },
     "metadata": {
      "needs_background": "light"
     },
     "output_type": "display_data"
    }
   ],
   "source": [
    "sns.distplot(df['diff'],hist=False)\n",
    "plot.xlabel(\"Difference\")\n",
    "plot.ylabel(\"PDF\")\n",
    "plot.title(\"Probability Density Function\")\n",
    "plot.show()"
   ]
  },
  {
   "cell_type": "code",
   "execution_count": 67,
   "id": "9117a8bf",
   "metadata": {},
   "outputs": [
    {
     "name": "stdout",
     "output_type": "stream",
     "text": [
      "Empirical mean: 1.0958333333333328\n",
      "Bootstrap replicates mean: 1.0976192592592586\n"
     ]
    }
   ],
   "source": [
    "def draw_bs_replicates(data,func,size):\n",
    "    \"\"\"creates a bootstrap sample, computes replicates and returns replicates array\"\"\"\n",
    "    # Create an empty array to store replicates\n",
    "    bs_replicates = np.empty(size)\n",
    "    \n",
    "    # Create bootstrap replicates as much as size\n",
    "    for i in range(size):\n",
    "        # Create a bootstrap sample\n",
    "        bs_sample = np.random.choice(data,size=len(data))\n",
    "        # Get bootstrap replicate and append to bs_replicates\n",
    "        bs_replicates[i] = func(bs_sample)\n",
    "    \n",
    "    return bs_replicates\n",
    "\n",
    "bs_replicates_diff = draw_bs_replicates(df['diff'],np.mean,15000)\n",
    "\n",
    "# Print empirical mean\n",
    "print(\"Empirical mean: \" + str(df['diff'].mean()))\n",
    "\n",
    "# Print the mean of bootstrap replicates\n",
    "print(\"Bootstrap replicates mean: \" + str(np.mean(bs_replicates_diff)))"
   ]
  },
  {
   "cell_type": "code",
   "execution_count": 73,
   "id": "69fb8ff0",
   "metadata": {},
   "outputs": [
    {
     "data": {
      "image/png": "[encoded data removed]",
      "text/plain": [
       "<Figure size 432x288 with 1 Axes>"
      ]
     },
     "metadata": {
      "needs_background": "light"
     },
     "output_type": "display_data"
    }
   ],
   "source": [
    "# Plot the PDF for bootstrap replicates as histogram\n",
    "plot.hist(bs_replicates_diff,bins=30)\n",
    "\n",
    "# Showing the related percentiles\n",
    "plot.axvline(x=np.percentile(bs_replicates_diff,[2.5]), ymin=0, ymax=1,label='2.5th percentile',c='y')\n",
    "plot.axvline(x=np.percentile(bs_replicates_diff,[97.5]), ymin=0, ymax=1,label='97.5th percentile',c='r')\n",
    "\n",
    "plot.xlabel(\"Difference\")\n",
    "plot.ylabel(\"PDF\")\n",
    "plot.title(\"Probability Density Function\")\n",
    "plot.legend()\n",
    "plot.show()"
   ]
  },
  {
   "cell_type": "code",
   "execution_count": 75,
   "id": "30baf0a7",
   "metadata": {},
   "outputs": [
    {
     "name": "stdout",
     "output_type": "stream",
     "text": [
      "The confidence interval:  [0.95       1.24583333]\n"
     ]
    }
   ],
   "source": [
    "# Get the corresponding values of 2.5th and 97.5th percentiles\n",
    "conf_interval = np.percentile(bs_replicates_diff,[2.5,97.5])\n",
    "\n",
    "# Print the interval\n",
    "print(\"The confidence interval: \",conf_interval)"
   ]
  },
  {
   "cell_type": "code",
   "execution_count": 88,
   "id": "747f4dd5",
   "metadata": {},
   "outputs": [],
   "source": [
    "population = df['diff']"
   ]
  },
  {
   "cell_type": "code",
   "execution_count": 89,
   "id": "2414d517",
   "metadata": {},
   "outputs": [
    {
     "data": {
      "text/plain": [
       "1.0958333333333328"
      ]
     },
     "execution_count": 89,
     "metadata": {},
     "output_type": "execute_result"
    }
   ],
   "source": [
    "population.mean()"
   ]
  },
  {
   "cell_type": "code",
   "execution_count": 90,
   "id": "d9e79418",
   "metadata": {},
   "outputs": [
    {
     "data": {
      "text/plain": [
       "0.6488207070209422"
      ]
     },
     "execution_count": 90,
     "metadata": {},
     "output_type": "execute_result"
    }
   ],
   "source": [
    "population.std()"
   ]
  },
  {
   "cell_type": "code",
   "execution_count": 91,
   "id": "4064140f",
   "metadata": {},
   "outputs": [
    {
     "data": {
      "text/plain": [
       "array([0.2, 1.8, 2.1, 0.2, 1.2, 1.5, 1.5, 0.6, 0.6, 0.3, 0.9, 1.8, 0.3,\n",
       "       0.9, 0.6, 0.6, 0.6, 0.5, 2.1, 0.7, 0. , 1.2, 0.7, 0.4, 0.6, 0.3,\n",
       "       1. , 2. , 1. , 2.2])"
      ]
     },
     "execution_count": 91,
     "metadata": {},
     "output_type": "execute_result"
    }
   ],
   "source": [
    "sample = np.random.choice(population, size=30)\n",
    "sample"
   ]
  },
  {
   "cell_type": "code",
   "execution_count": 94,
   "id": "5432a614",
   "metadata": {},
   "outputs": [
    {
     "data": {
      "text/plain": [
       "0.9466666666666659"
      ]
     },
     "execution_count": 94,
     "metadata": {},
     "output_type": "execute_result"
    }
   ],
   "source": [
    "sample_mean = sample.mean()\n",
    "sample_mean"
   ]
  },
  {
   "cell_type": "code",
   "execution_count": 95,
   "id": "2f00ef9d",
   "metadata": {},
   "outputs": [
    {
     "data": {
      "text/plain": [
       "0.6473997503719081"
      ]
     },
     "execution_count": 95,
     "metadata": {},
     "output_type": "execute_result"
    }
   ],
   "source": [
    "sample_std = np.std(sample, ddof=1)\n",
    "sample_std"
   ]
  },
  {
   "cell_type": "code",
   "execution_count": 98,
   "id": "0d96e56d",
   "metadata": {},
   "outputs": [
    {
     "data": {
      "text/plain": [
       "0.11819848233396921"
      ]
     },
     "execution_count": 98,
     "metadata": {},
     "output_type": "execute_result"
    }
   ],
   "source": [
    "sample_std/(30 ** 0.5)"
   ]
  },
  {
   "cell_type": "code",
   "execution_count": 99,
   "id": "9a851c49",
   "metadata": {},
   "outputs": [
    {
     "data": {
      "text/plain": [
       "0.11845791233727351"
      ]
     },
     "execution_count": 99,
     "metadata": {},
     "output_type": "execute_result"
    }
   ],
   "source": [
    "population.std()/(30 ** 0.5)"
   ]
  },
  {
   "cell_type": "code",
   "execution_count": 101,
   "id": "824c765e",
   "metadata": {},
   "outputs": [
    {
     "data": {
      "text/plain": [
       "(1.0958333333333328, 0.947337666666666)"
      ]
     },
     "execution_count": 101,
     "metadata": {},
     "output_type": "execute_result"
    }
   ],
   "source": [
    "boot_means = []\n",
    "for _ in range(10000):\n",
    "    bootsample = np.random.choice(sample,size=30, replace=True)\n",
    "    boot_means.append(bootsample.mean())\n",
    "# simulated mean of mean\n",
    "bootmean = np.mean(boot_means)\n",
    "# simulated standard deviation of mean\n",
    "bootmean_std = np.std(boot_means)\n",
    "# simulated mean VS true mean\n",
    "(population.mean(), bootmean)"
   ]
  },
  {
   "cell_type": "code",
   "execution_count": 102,
   "id": "1bc317a4",
   "metadata": {},
   "outputs": [
    {
     "data": {
      "text/plain": [
       "(0.11845791233727351, 0.11725454638473032)"
      ]
     },
     "execution_count": 102,
     "metadata": {},
     "output_type": "execute_result"
    }
   ],
   "source": [
    "# the theorical standard error and simulated standard error\n",
    "(population.std()/(30 ** 0.5), bootmean_std)"
   ]
  },
  {
   "cell_type": "code",
   "execution_count": 104,
   "id": "05a3fb33",
   "metadata": {},
   "outputs": [
    {
     "data": {
      "text/plain": [
       "(array([  47.,  306., 1022., 2090., 2583., 2144., 1221.,  432.,  128.,\n",
       "          27.]),\n",
       " array([0.58333333, 0.662     , 0.74066667, 0.81933333, 0.898     ,\n",
       "        0.97666667, 1.05533333, 1.134     , 1.21266667, 1.29133333,\n",
       "        1.37      ]),\n",
       " <BarContainer object of 10 artists>)"
      ]
     },
     "execution_count": 104,
     "metadata": {},
     "output_type": "execute_result"
    },
    {
     "data": {
      "image/png": "[encoded data removed]",
      "text/plain": [
       "<Figure size 432x288 with 1 Axes>"
      ]
     },
     "metadata": {
      "needs_background": "light"
     },
     "output_type": "display_data"
    }
   ],
   "source": [
    "plot.hist(boot_means)"
   ]
  },
  {
   "cell_type": "code",
   "execution_count": 118,
   "id": "463c94cf",
   "metadata": {},
   "outputs": [
    {
     "data": {
      "text/plain": [
       "ConfidenceInterval(low=array([87.5 , 88.25,  0.85]), high=array([94.  , 94.6 ,  1.25]))"
      ]
     },
     "execution_count": 118,
     "metadata": {},
     "output_type": "execute_result"
    }
   ],
   "source": [
    "# Bootstrap method\n",
    "from scipy.stats import bootstrap\n",
    "data = (df,)\n",
    "res = bootstrap(data, np.median, confidence_level = .95, random_state = 0, method = 'percentile')\n",
    "res.confidence_interval"
   ]
  },
  {
   "cell_type": "code",
   "execution_count": 119,
   "id": "9042e1eb",
   "metadata": {},
   "outputs": [
    {
     "data": {
      "text/plain": [
       "array([2.11354992, 1.70160525, 0.1144769 ])"
      ]
     },
     "execution_count": 119,
     "metadata": {},
     "output_type": "execute_result"
    }
   ],
   "source": [
    "res.standard_error"
   ]
  },
  {
   "cell_type": "code",
   "execution_count": null,
   "id": "7c8c1c74",
   "metadata": {},
   "outputs": [],
   "source": [
    "# Over all the extent of agreement between these two methods are well enough to be interchangable\n",
    "# Since the confidence intervals, means, and standard errors were close to each other. "
   ]
  }
 ],
 "metadata": {
  "kernelspec": {
   "display_name": "Python 3 (ipykernel)",
   "language": "python",
   "name": "python3"
  },
  "language_info": {
   "codemirror_mode": {
    "name": "ipython",
    "version": 3
   },
   "file_extension": ".py",
   "mimetype": "text/x-python",
   "name": "python",
   "nbconvert_exporter": "python",
   "pygments_lexer": "ipython3",
   "version": "3.9.12"
  }
 },
 "nbformat": 4,
 "nbformat_minor": 5
}
