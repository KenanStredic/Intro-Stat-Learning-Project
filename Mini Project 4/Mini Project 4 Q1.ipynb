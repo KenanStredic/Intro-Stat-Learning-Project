{
 "cells": [
  {
   "cell_type": "code",
   "execution_count": 133,
   "id": "8540cfa9",
   "metadata": {},
   "outputs": [
    {
     "name": "stdout",
     "output_type": "stream",
     "text": [
      "    Clarity  Aroma  Body  Flavor  Oakiness  Quality  Region\n",
      "0       1.0    3.3   2.8     3.1       4.1      9.8       1\n",
      "1       1.0    4.4   4.9     3.5       3.9     12.6       1\n",
      "2       1.0    3.9   5.3     4.8       4.7     11.9       1\n",
      "3       1.0    3.9   2.6     3.1       3.6     11.1       1\n",
      "4       1.0    5.6   5.1     5.5       5.1     13.3       1\n",
      "5       1.0    4.6   4.7     5.0       4.1     12.8       1\n",
      "6       1.0    4.8   4.8     4.8       3.3     12.8       1\n",
      "7       1.0    5.3   4.5     4.3       5.2     12.0       1\n",
      "8       1.0    4.3   4.3     3.9       2.9     13.6       3\n",
      "9       1.0    4.3   3.9     4.7       3.9     13.9       1\n",
      "10      1.0    5.1   4.3     4.5       3.6     14.4       3\n",
      "11      0.5    3.3   5.4     4.3       3.6     12.3       2\n",
      "12      0.8    5.9   5.7     7.0       4.1     16.1       3\n",
      "13      0.7    7.7   6.6     6.7       3.7     16.1       3\n",
      "14      1.0    7.1   4.4     5.8       4.1     15.5       3\n",
      "15      0.9    5.5   5.6     5.6       4.4     15.5       3\n",
      "16      1.0    6.3   5.4     4.8       4.6     13.8       3\n",
      "17      1.0    5.0   5.5     5.5       4.1     13.8       3\n",
      "18      1.0    4.6   4.1     4.3       3.1     11.3       1\n",
      "19      0.9    3.4   5.0     3.4       3.4      7.9       2\n",
      "20      0.9    6.4   5.4     6.6       4.8     15.1       3\n",
      "21      1.0    5.5   5.3     5.3       3.8     13.5       3\n",
      "22      0.7    4.7   4.1     5.0       3.7     10.8       2\n",
      "23      0.7    4.1   4.0     4.1       4.0      9.5       2\n",
      "24      1.0    6.0   5.4     5.7       4.7     12.7       3\n",
      "25      1.0    4.3   4.6     4.7       4.9     11.6       2\n",
      "26      1.0    3.9   4.0     5.1       5.1     11.7       1\n",
      "27      1.0    5.1   4.9     5.0       5.1     11.9       2\n",
      "28      1.0    3.9   4.4     5.0       4.4     10.8       2\n",
      "29      1.0    4.5   3.7     2.9       3.9      8.5       2\n",
      "30      1.0    5.2   4.3     5.0       6.0     10.7       2\n",
      "31      0.8    4.2   3.8     3.0       4.7      9.1       1\n",
      "32      1.0    3.3   3.5     4.3       4.5     12.1       1\n",
      "33      1.0    6.8   5.0     6.0       5.2     14.9       3\n",
      "34      0.8    5.0   5.7     5.5       4.8     13.5       1\n",
      "35      0.8    3.5   4.7     4.2       3.3     12.2       1\n",
      "36      0.8    4.3   5.5     3.5       5.8     10.3       1\n",
      "37      0.8    5.2   4.8     5.7       3.5     13.2       1\n"
     ]
    }
   ],
   "source": [
    "import numpy as np\n",
    "import pandas as pan\n",
    "import matplotlib.pyplot as plot\n",
    "%matplotlib inline\n",
    "import itertools\n",
    "import time\n",
    "from sklearn.linear_model import LinearRegression\n",
    "from sklearn.metrics import mean_squared_error\n",
    "from sklearn.model_selection import LeaveOneOut\n",
    "from sklearn.model_selection import cross_val_score\n",
    "import statsmodels.api as sm\n",
    "from statsmodels.formula.api import ols\n",
    "from sklearn.model_selection import train_test_split\n",
    "from numpy import mean\n",
    "from numpy import absolute\n",
    "from numpy import sqrt\n",
    "from sklearn.linear_model import Ridge\n",
    "from sklearn.linear_model import Lasso\n",
    "from sklearn.model_selection import RepeatedKFold\n",
    "\n",
    "# Read wine data\n",
    "wine = pan.read_csv('wine.txt', sep=\"\\t\", header=0)\n",
    "# Show data\n",
    "print(wine)"
   ]
  },
  {
   "cell_type": "code",
   "execution_count": 3,
   "id": "62cdc75e",
   "metadata": {},
   "outputs": [
    {
     "name": "stdout",
     "output_type": "stream",
     "text": [
      "<class 'pandas.core.frame.DataFrame'>\n",
      "RangeIndex: 38 entries, 0 to 37\n",
      "Data columns (total 7 columns):\n",
      " #   Column    Non-Null Count  Dtype  \n",
      "---  ------    --------------  -----  \n",
      " 0   Clarity   38 non-null     float64\n",
      " 1   Aroma     38 non-null     float64\n",
      " 2   Body      38 non-null     float64\n",
      " 3   Flavor    38 non-null     float64\n",
      " 4   Oakiness  38 non-null     float64\n",
      " 5   Quality   38 non-null     float64\n",
      " 6   Region    38 non-null     int64  \n",
      "dtypes: float64(6), int64(1)\n",
      "memory usage: 2.2 KB\n"
     ]
    }
   ],
   "source": [
    "wine.info()"
   ]
  },
  {
   "cell_type": "code",
   "execution_count": 181,
   "id": "91bf3add",
   "metadata": {},
   "outputs": [
    {
     "data": {
      "text/plain": [
       "1.2664374017142526"
      ]
     },
     "execution_count": 181,
     "metadata": {},
     "output_type": "execute_result"
    }
   ],
   "source": [
    "X = wine.drop('Quality', axis=1)\n",
    "y = wine['Quality']\n",
    "X_train, X_test, y_train, y_test = train_test_split(X,y,test_size=0.30,random_state=10)\n",
    "\n",
    "lr = LinearRegression()\n",
    "cv = LeaveOneOut()\n",
    "scores = cross_val_score(lr, X_train, y_train, scoring='neg_mean_absolute_error', cv=cv, n_jobs=-1)\n",
    "\n",
    "#view mean absolute error\n",
    "lr_test = mean(absolute(scores))\n",
    "lr_test"
   ]
  },
  {
   "cell_type": "code",
   "execution_count": 173,
   "id": "faca66b2",
   "metadata": {},
   "outputs": [
    {
     "name": "stdout",
     "output_type": "stream",
     "text": [
      "3.0054690303396594 [ 2.0694319   0.51639939  0.53156728  1.20041551 -0.7776024   0.01997731] 0.7006617884846797\n"
     ]
    }
   ],
   "source": [
    "lr.fit(X_train, y_train)\n",
    "print(lr.intercept_, lr.coef_, lr.score(X, y))"
   ]
  },
  {
   "cell_type": "code",
   "execution_count": 54,
   "id": "b141ac46",
   "metadata": {},
   "outputs": [
    {
     "name": "stdout",
     "output_type": "stream",
     "text": [
      "Processed 6 models on 1 predictors in 0.05510997772216797 seconds.\n",
      "Processed 15 models on 2 predictors in 0.0474393367767334 seconds.\n",
      "Processed 20 models on 3 predictors in 0.06509566307067871 seconds.\n",
      "Processed 15 models on 4 predictors in 0.04218149185180664 seconds.\n",
      "Processed 6 models on 5 predictors in 0.027566194534301758 seconds.\n",
      "Processed 1 models on 6 predictors in 0.006474494934082031 seconds.\n",
      "Total elapsed time: 0.26894092559814453 seconds.\n"
     ]
    }
   ],
   "source": [
    "# Best Subset Selection\n",
    "def processSubset(feature_set):\n",
    "    # Fit model on feature_set and calculate RSS\n",
    "    model = sm.OLS(y,X[list(feature_set)])\n",
    "    regr = model.fit()\n",
    "    RSS = ((regr.predict(X[list(feature_set)]) - y) ** 2).sum()\n",
    "    return {\"model\":regr, \"RSS\":RSS}\n",
    "\n",
    "def getBest(k):\n",
    "    tic = time.time()\n",
    "    results = []\n",
    "    for combo in itertools.combinations(X.columns, k):\n",
    "        results.append(processSubset(combo)) \n",
    "    # Wrap everything up in a nice dataframe\n",
    "    models = pan.DataFrame(results)\n",
    "    # Choose the model with the highest RSS\n",
    "    best_model = models.loc[models['RSS'].argmin()]\n",
    "    toc = time.time()\n",
    "    print(\"Processed\", models.shape[0], \"models on\", k, \"predictors in\", (toc-tic), \"seconds.\")\n",
    "    \n",
    "    # Return the best model, along with some other useful information about the model\n",
    "    return best_model\n",
    "\n",
    "models_best = pan.DataFrame(columns=[\"RSS\", \"model\"])\n",
    "\n",
    "tic = time.time()\n",
    "for i in range(1,7):\n",
    "    models_best.loc[i] = getBest(i)\n",
    "\n",
    "toc = time.time()\n",
    "print(\"Total elapsed time:\", (toc-tic), \"seconds.\")"
   ]
  },
  {
   "cell_type": "code",
   "execution_count": 55,
   "id": "f41485f3",
   "metadata": {},
   "outputs": [
    {
     "data": {
      "text/html": [
       "<div>\n",
       "<style scoped>\n",
       "    .dataframe tbody tr th:only-of-type {\n",
       "        vertical-align: middle;\n",
       "    }\n",
       "\n",
       "    .dataframe tbody tr th {\n",
       "        vertical-align: top;\n",
       "    }\n",
       "\n",
       "    .dataframe thead th {\n",
       "        text-align: right;\n",
       "    }\n",
       "</style>\n",
       "<table border=\"1\" class=\"dataframe\">\n",
       "  <thead>\n",
       "    <tr style=\"text-align: right;\">\n",
       "      <th></th>\n",
       "      <th>RSS</th>\n",
       "      <th>model</th>\n",
       "    </tr>\n",
       "  </thead>\n",
       "  <tbody>\n",
       "    <tr>\n",
       "      <th>1</th>\n",
       "      <td>98.346061</td>\n",
       "      <td>&lt;statsmodels.regression.linear_model.Regressio...</td>\n",
       "    </tr>\n",
       "    <tr>\n",
       "      <th>2</th>\n",
       "      <td>61.789657</td>\n",
       "      <td>&lt;statsmodels.regression.linear_model.Regressio...</td>\n",
       "    </tr>\n",
       "    <tr>\n",
       "      <th>3</th>\n",
       "      <td>57.04904</td>\n",
       "      <td>&lt;statsmodels.regression.linear_model.Regressio...</td>\n",
       "    </tr>\n",
       "    <tr>\n",
       "      <th>4</th>\n",
       "      <td>50.870419</td>\n",
       "      <td>&lt;statsmodels.regression.linear_model.Regressio...</td>\n",
       "    </tr>\n",
       "    <tr>\n",
       "      <th>5</th>\n",
       "      <td>47.582677</td>\n",
       "      <td>&lt;statsmodels.regression.linear_model.Regressio...</td>\n",
       "    </tr>\n",
       "    <tr>\n",
       "      <th>6</th>\n",
       "      <td>47.527237</td>\n",
       "      <td>&lt;statsmodels.regression.linear_model.Regressio...</td>\n",
       "    </tr>\n",
       "  </tbody>\n",
       "</table>\n",
       "</div>"
      ],
      "text/plain": [
       "         RSS                                              model\n",
       "1  98.346061  <statsmodels.regression.linear_model.Regressio...\n",
       "2  61.789657  <statsmodels.regression.linear_model.Regressio...\n",
       "3   57.04904  <statsmodels.regression.linear_model.Regressio...\n",
       "4  50.870419  <statsmodels.regression.linear_model.Regressio...\n",
       "5  47.582677  <statsmodels.regression.linear_model.Regressio...\n",
       "6  47.527237  <statsmodels.regression.linear_model.Regressio..."
      ]
     },
     "execution_count": 55,
     "metadata": {},
     "output_type": "execute_result"
    }
   ],
   "source": [
    "models_best"
   ]
  },
  {
   "cell_type": "code",
   "execution_count": 56,
   "id": "30bc62bc",
   "metadata": {},
   "outputs": [
    {
     "name": "stdout",
     "output_type": "stream",
     "text": [
      "                                 OLS Regression Results                                \n",
      "=======================================================================================\n",
      "Dep. Variable:                Quality   R-squared (uncentered):                   0.984\n",
      "Model:                            OLS   Adj. R-squared (uncentered):              0.983\n",
      "Method:                 Least Squares   F-statistic:                              2233.\n",
      "Date:                Wed, 29 Mar 2023   Prob (F-statistic):                    1.11e-34\n",
      "Time:                        14:50:31   Log-Likelihood:                         -71.987\n",
      "No. Observations:                  38   AIC:                                      146.0\n",
      "Df Residuals:                      37   BIC:                                      147.6\n",
      "Df Model:                           1                                                  \n",
      "Covariance Type:            nonrobust                                                  \n",
      "==============================================================================\n",
      "                 coef    std err          t      P>|t|      [0.025      0.975]\n",
      "------------------------------------------------------------------------------\n",
      "Flavor         2.5633      0.054     47.250      0.000       2.453       2.673\n",
      "==============================================================================\n",
      "Omnibus:                        1.979   Durbin-Watson:                   1.433\n",
      "Prob(Omnibus):                  0.372   Jarque-Bera (JB):                1.756\n",
      "Skew:                           0.412   Prob(JB):                        0.416\n",
      "Kurtosis:                       2.345   Cond. No.                         1.00\n",
      "==============================================================================\n",
      "\n",
      "Notes:\n",
      "[1] R² is computed without centering (uncentered) since the model does not contain a constant.\n",
      "[2] Standard Errors assume that the covariance matrix of the errors is correctly specified.\n"
     ]
    }
   ],
   "source": [
    "print(models_best.loc[1, \"model\"].summary())"
   ]
  },
  {
   "cell_type": "code",
   "execution_count": 57,
   "id": "9fcfc534",
   "metadata": {},
   "outputs": [
    {
     "name": "stdout",
     "output_type": "stream",
     "text": [
      "                                 OLS Regression Results                                \n",
      "=======================================================================================\n",
      "Dep. Variable:                Quality   R-squared (uncentered):                   0.990\n",
      "Model:                            OLS   Adj. R-squared (uncentered):              0.989\n",
      "Method:                 Least Squares   F-statistic:                              1739.\n",
      "Date:                Wed, 29 Mar 2023   Prob (F-statistic):                    1.54e-36\n",
      "Time:                        14:50:33   Log-Likelihood:                         -63.157\n",
      "No. Observations:                  38   AIC:                                      130.3\n",
      "Df Residuals:                      36   BIC:                                      133.6\n",
      "Df Model:                           2                                                  \n",
      "Covariance Type:            nonrobust                                                  \n",
      "==============================================================================\n",
      "                 coef    std err          t      P>|t|      [0.025      0.975]\n",
      "------------------------------------------------------------------------------\n",
      "Clarity        4.1515      0.900      4.615      0.000       2.327       5.976\n",
      "Flavor         1.7958      0.172     10.445      0.000       1.447       2.144\n",
      "==============================================================================\n",
      "Omnibus:                        0.612   Durbin-Watson:                   1.025\n",
      "Prob(Omnibus):                  0.736   Jarque-Bera (JB):                0.693\n",
      "Skew:                           0.121   Prob(JB):                        0.707\n",
      "Kurtosis:                       2.384   Cond. No.                         21.3\n",
      "==============================================================================\n",
      "\n",
      "Notes:\n",
      "[1] R² is computed without centering (uncentered) since the model does not contain a constant.\n",
      "[2] Standard Errors assume that the covariance matrix of the errors is correctly specified.\n"
     ]
    }
   ],
   "source": [
    "print(models_best.loc[2, \"model\"].summary())"
   ]
  },
  {
   "cell_type": "code",
   "execution_count": 58,
   "id": "abac721d",
   "metadata": {},
   "outputs": [
    {
     "name": "stdout",
     "output_type": "stream",
     "text": [
      "                                 OLS Regression Results                                \n",
      "=======================================================================================\n",
      "Dep. Variable:                Quality   R-squared (uncentered):                   0.991\n",
      "Model:                            OLS   Adj. R-squared (uncentered):              0.990\n",
      "Method:                 Least Squares   F-statistic:                              1222.\n",
      "Date:                Wed, 29 Mar 2023   Prob (F-statistic):                    1.81e-35\n",
      "Time:                        14:50:35   Log-Likelihood:                         -61.640\n",
      "No. Observations:                  38   AIC:                                      129.3\n",
      "Df Residuals:                      35   BIC:                                      134.2\n",
      "Df Model:                           3                                                  \n",
      "Covariance Type:            nonrobust                                                  \n",
      "==============================================================================\n",
      "                 coef    std err          t      P>|t|      [0.025      0.975]\n",
      "------------------------------------------------------------------------------\n",
      "Clarity        3.5516      0.945      3.760      0.001       1.634       5.469\n",
      "Body           0.4927      0.289      1.705      0.097      -0.094       1.079\n",
      "Flavor         1.4326      0.271      5.287      0.000       0.882       1.983\n",
      "==============================================================================\n",
      "Omnibus:                        0.354   Durbin-Watson:                   1.020\n",
      "Prob(Omnibus):                  0.838   Jarque-Bera (JB):                0.517\n",
      "Skew:                           0.014   Prob(JB):                        0.772\n",
      "Kurtosis:                       2.429   Cond. No.                         31.5\n",
      "==============================================================================\n",
      "\n",
      "Notes:\n",
      "[1] R² is computed without centering (uncentered) since the model does not contain a constant.\n",
      "[2] Standard Errors assume that the covariance matrix of the errors is correctly specified.\n"
     ]
    }
   ],
   "source": [
    "print(models_best.loc[3, \"model\"].summary())"
   ]
  },
  {
   "cell_type": "code",
   "execution_count": 59,
   "id": "31b5921a",
   "metadata": {},
   "outputs": [
    {
     "name": "stdout",
     "output_type": "stream",
     "text": [
      "                                 OLS Regression Results                                \n",
      "=======================================================================================\n",
      "Dep. Variable:                Quality   R-squared (uncentered):                   0.992\n",
      "Model:                            OLS   Adj. R-squared (uncentered):              0.991\n",
      "Method:                 Least Squares   F-statistic:                              999.5\n",
      "Date:                Wed, 29 Mar 2023   Prob (F-statistic):                    9.85e-35\n",
      "Time:                        14:50:37   Log-Likelihood:                         -59.462\n",
      "No. Observations:                  38   AIC:                                      126.9\n",
      "Df Residuals:                      34   BIC:                                      133.5\n",
      "Df Model:                           4                                                  \n",
      "Covariance Type:            nonrobust                                                  \n",
      "==============================================================================\n",
      "                 coef    std err          t      P>|t|      [0.025      0.975]\n",
      "------------------------------------------------------------------------------\n",
      "Clarity        5.0614      1.171      4.323      0.000       2.682       7.441\n",
      "Body           0.6700      0.290      2.309      0.027       0.080       1.260\n",
      "Flavor         1.4670      0.260      5.639      0.000       0.938       1.996\n",
      "Oakiness      -0.5634      0.277     -2.032      0.050      -1.127    3.03e-05\n",
      "==============================================================================\n",
      "Omnibus:                        0.810   Durbin-Watson:                   1.026\n",
      "Prob(Omnibus):                  0.667   Jarque-Bera (JB):                0.760\n",
      "Skew:                          -0.317   Prob(JB):                        0.684\n",
      "Kurtosis:                       2.722   Cond. No.                         48.1\n",
      "==============================================================================\n",
      "\n",
      "Notes:\n",
      "[1] R² is computed without centering (uncentered) since the model does not contain a constant.\n",
      "[2] Standard Errors assume that the covariance matrix of the errors is correctly specified.\n"
     ]
    }
   ],
   "source": [
    "print(models_best.loc[4, \"model\"].summary())"
   ]
  },
  {
   "cell_type": "code",
   "execution_count": 60,
   "id": "48b993ff",
   "metadata": {},
   "outputs": [
    {
     "name": "stdout",
     "output_type": "stream",
     "text": [
      "                                 OLS Regression Results                                \n",
      "=======================================================================================\n",
      "Dep. Variable:                Quality   R-squared (uncentered):                   0.992\n",
      "Model:                            OLS   Adj. R-squared (uncentered):              0.991\n",
      "Method:                 Least Squares   F-statistic:                              830.1\n",
      "Date:                Wed, 29 Mar 2023   Prob (F-statistic):                    1.11e-33\n",
      "Time:                        14:50:39   Log-Likelihood:                         -58.192\n",
      "No. Observations:                  38   AIC:                                      126.4\n",
      "Df Residuals:                      33   BIC:                                      134.6\n",
      "Df Model:                           5                                                  \n",
      "Covariance Type:            nonrobust                                                  \n",
      "==============================================================================\n",
      "                 coef    std err          t      P>|t|      [0.025      0.975]\n",
      "------------------------------------------------------------------------------\n",
      "Clarity        4.6830      1.176      3.981      0.000       2.289       7.076\n",
      "Aroma          0.4216      0.279      1.510      0.141      -0.146       0.990\n",
      "Body           0.5944      0.289      2.055      0.048       0.006       1.183\n",
      "Flavor         1.1906      0.314      3.789      0.001       0.551       1.830\n",
      "Oakiness      -0.5693      0.272     -2.091      0.044      -1.123      -0.015\n",
      "==============================================================================\n",
      "Omnibus:                        0.136   Durbin-Watson:                   0.957\n",
      "Prob(Omnibus):                  0.934   Jarque-Bera (JB):                0.214\n",
      "Skew:                          -0.128   Prob(JB):                        0.899\n",
      "Kurtosis:                       2.736   Cond. No.                         57.7\n",
      "==============================================================================\n",
      "\n",
      "Notes:\n",
      "[1] R² is computed without centering (uncentered) since the model does not contain a constant.\n",
      "[2] Standard Errors assume that the covariance matrix of the errors is correctly specified.\n"
     ]
    }
   ],
   "source": [
    "print(models_best.loc[5, \"model\"].summary())"
   ]
  },
  {
   "cell_type": "code",
   "execution_count": 61,
   "id": "7c1391a3",
   "metadata": {},
   "outputs": [
    {
     "name": "stdout",
     "output_type": "stream",
     "text": [
      "                                 OLS Regression Results                                \n",
      "=======================================================================================\n",
      "Dep. Variable:                Quality   R-squared (uncentered):                   0.992\n",
      "Model:                            OLS   Adj. R-squared (uncentered):              0.991\n",
      "Method:                 Least Squares   F-statistic:                              671.6\n",
      "Date:                Wed, 29 Mar 2023   Prob (F-statistic):                    3.32e-32\n",
      "Time:                        14:50:42   Log-Likelihood:                         -58.170\n",
      "No. Observations:                  38   AIC:                                      128.3\n",
      "Df Residuals:                      32   BIC:                                      138.2\n",
      "Df Model:                           6                                                  \n",
      "Covariance Type:            nonrobust                                                  \n",
      "==============================================================================\n",
      "                 coef    std err          t      P>|t|      [0.025      0.975]\n",
      "------------------------------------------------------------------------------\n",
      "Clarity        4.6842      1.194      3.923      0.000       2.252       7.116\n",
      "Aroma          0.4476      0.314      1.427      0.163      -0.191       1.087\n",
      "Body           0.6018      0.296      2.033      0.050      -0.001       1.205\n",
      "Flavor         1.1932      0.319      3.738      0.001       0.543       1.843\n",
      "Oakiness      -0.5843      0.287     -2.036      0.050      -1.169       0.000\n",
      "Region        -0.0589      0.305     -0.193      0.848      -0.680       0.562\n",
      "==============================================================================\n",
      "Omnibus:                        0.053   Durbin-Watson:                   0.965\n",
      "Prob(Omnibus):                  0.974   Jarque-Bera (JB):                0.173\n",
      "Skew:                          -0.080   Prob(JB):                        0.917\n",
      "Kurtosis:                       2.711   Cond. No.                         58.9\n",
      "==============================================================================\n",
      "\n",
      "Notes:\n",
      "[1] R² is computed without centering (uncentered) since the model does not contain a constant.\n",
      "[2] Standard Errors assume that the covariance matrix of the errors is correctly specified.\n"
     ]
    }
   ],
   "source": [
    "print(models_best.loc[6, \"model\"].summary())"
   ]
  },
  {
   "cell_type": "code",
   "execution_count": 62,
   "id": "10c58038",
   "metadata": {},
   "outputs": [
    {
     "data": {
      "text/plain": [
       "Text(0, 0.5, 'BIC')"
      ]
     },
     "execution_count": 62,
     "metadata": {},
     "output_type": "execute_result"
    },
    {
     "data": {
      "image/png": "[encoded data removed]",
      "text/plain": [
       "<Figure size 1440x720 with 4 Axes>"
      ]
     },
     "metadata": {
      "needs_background": "light"
     },
     "output_type": "display_data"
    }
   ],
   "source": [
    "plot.figure(figsize=(20,10))\n",
    "plot.rcParams.update({'font.size': 18, 'lines.markersize': 10})\n",
    "\n",
    "# Set up a 2x2 grid so we can look at 4 plots at once\n",
    "plot.subplot(2, 2, 1)\n",
    "\n",
    "# We will now plot a red dot to indicate the model with the largest adjusted R^2 statistic.\n",
    "# The argmax() function can be used to identify the location of the maximum point of a vector\n",
    "plot.plot(models_best[\"RSS\"])\n",
    "plot.xlabel('# Predictors')\n",
    "plot.ylabel('RSS')\n",
    "\n",
    "# We will now plot a red dot to indicate the model with the largest adjusted R^2 statistic.\n",
    "# The argmax() function can be used to identify the location of the maximum point of a vector\n",
    "\n",
    "rsquared_adj = models_best.apply(lambda row: row[1].rsquared_adj, axis=1)\n",
    "\n",
    "plot.subplot(2, 2, 2)\n",
    "plot.plot(rsquared_adj)\n",
    "plot.plot(rsquared_adj.argmax(), rsquared_adj.max(), \"or\")\n",
    "plot.xlabel('# Predictors')\n",
    "plot.ylabel('adjusted rsquared')\n",
    "\n",
    "# We'll do the same for AIC and BIC, this time looking for the models with the SMALLEST statistic\n",
    "aic = models_best.apply(lambda row: row[1].aic, axis=1)\n",
    "\n",
    "plot.subplot(2, 2, 3)\n",
    "plot.plot(aic)\n",
    "plot.plot(aic.argmin(), aic.min(), \"or\")\n",
    "plot.xlabel('# Predictors')\n",
    "plot.ylabel('AIC')\n",
    "\n",
    "bic = models_best.apply(lambda row: row[1].bic, axis=1)\n",
    "\n",
    "plot.subplot(2, 2, 4)\n",
    "plot.plot(bic)\n",
    "plot.plot(bic.argmin(), bic.min(), \"or\")\n",
    "plot.xlabel('# Predictors')\n",
    "plot.ylabel('BIC')"
   ]
  },
  {
   "cell_type": "code",
   "execution_count": 163,
   "id": "8ad2c7f9",
   "metadata": {
    "scrolled": true
   },
   "outputs": [
    {
     "name": "stdout",
     "output_type": "stream",
     "text": [
      "Test MSE =  1.2767670288530615\n"
     ]
    }
   ],
   "source": [
    "# Test MSE for Model with 4 variables \n",
    "X = wine[['Clarity', 'Body', 'Flavor', 'Oakiness']]\n",
    "y = wine['Quality']\n",
    "X_train, X_test, y_train, y_test = train_test_split(X,y,test_size=0.30,random_state=10)\n",
    "\n",
    "model1 = LinearRegression()\n",
    "model1.fit(X_train, y_train)\n",
    "y_pred = model1.predict(X_test)\n",
    "model1_test = mean_squared_error(y_pred, y_test)\n",
    "print(\"Test MSE = \", model1_test)"
   ]
  },
  {
   "cell_type": "code",
   "execution_count": 70,
   "id": "addff5bd",
   "metadata": {},
   "outputs": [],
   "source": [
    "X = wine.drop('Quality', axis=1)\n",
    "y = wine['Quality']\n",
    "X_train, X_test, y_train, y_test = train_test_split(X,y,test_size=0.30,random_state=10)"
   ]
  },
  {
   "cell_type": "code",
   "execution_count": 71,
   "id": "c15730a4",
   "metadata": {},
   "outputs": [
    {
     "name": "stdout",
     "output_type": "stream",
     "text": [
      "Processed  6 models on 1 predictors in 0.016231298446655273 seconds.\n",
      "Processed  5 models on 2 predictors in 0.017084121704101562 seconds.\n",
      "Processed  4 models on 3 predictors in 0.012479543685913086 seconds.\n",
      "Processed  3 models on 4 predictors in 0.009078502655029297 seconds.\n",
      "Processed  2 models on 5 predictors in 0.0066645145416259766 seconds.\n",
      "Processed  1 models on 6 predictors in 0.004609107971191406 seconds.\n",
      "Total elapsed time: 0.07904815673828125 seconds.\n"
     ]
    }
   ],
   "source": [
    "# Forward Stepwise Selection\n",
    "def forward(predictors):\n",
    "\n",
    "    # Pull out predictors we still need to process\n",
    "    remaining_predictors = [p for p in X.columns if p not in predictors]\n",
    "    \n",
    "    tic = time.time()\n",
    "    \n",
    "    results = []\n",
    "    \n",
    "    for p in remaining_predictors:\n",
    "        results.append(processSubset(predictors+[p]))\n",
    "    \n",
    "    # Wrap everything up in a nice dataframe\n",
    "    models = pan.DataFrame(results)\n",
    "    \n",
    "    # Choose the model with the highest RSS\n",
    "    best_model = models.loc[models['RSS'].argmin()]\n",
    "    \n",
    "    toc = time.time()\n",
    "    print(\"Processed \", models.shape[0], \"models on\", len(predictors)+1, \"predictors in\", (toc-tic), \"seconds.\")\n",
    "    \n",
    "    # Return the best model, along with some other useful information about the model\n",
    "    return best_model\n",
    "\n",
    "models_fwd = pan.DataFrame(columns=[\"RSS\", \"model\"])\n",
    "\n",
    "tic = time.time()\n",
    "predictors = []\n",
    "\n",
    "for i in range(1,len(X.columns)+1):    \n",
    "    models_fwd.loc[i] = forward(predictors)\n",
    "    predictors = models_fwd.loc[i][\"model\"].model.exog_names\n",
    "\n",
    "toc = time.time()\n",
    "print(\"Total elapsed time:\", (toc-tic), \"seconds.\")"
   ]
  },
  {
   "cell_type": "code",
   "execution_count": 72,
   "id": "892dc14f",
   "metadata": {},
   "outputs": [
    {
     "name": "stdout",
     "output_type": "stream",
     "text": [
      "                                 OLS Regression Results                                \n",
      "=======================================================================================\n",
      "Dep. Variable:                Quality   R-squared (uncentered):                   0.984\n",
      "Model:                            OLS   Adj. R-squared (uncentered):              0.983\n",
      "Method:                 Least Squares   F-statistic:                              2233.\n",
      "Date:                Wed, 29 Mar 2023   Prob (F-statistic):                    1.11e-34\n",
      "Time:                        14:58:48   Log-Likelihood:                         -71.987\n",
      "No. Observations:                  38   AIC:                                      146.0\n",
      "Df Residuals:                      37   BIC:                                      147.6\n",
      "Df Model:                           1                                                  \n",
      "Covariance Type:            nonrobust                                                  \n",
      "==============================================================================\n",
      "                 coef    std err          t      P>|t|      [0.025      0.975]\n",
      "------------------------------------------------------------------------------\n",
      "Flavor         2.5633      0.054     47.250      0.000       2.453       2.673\n",
      "==============================================================================\n",
      "Omnibus:                        1.979   Durbin-Watson:                   1.433\n",
      "Prob(Omnibus):                  0.372   Jarque-Bera (JB):                1.756\n",
      "Skew:                           0.412   Prob(JB):                        0.416\n",
      "Kurtosis:                       2.345   Cond. No.                         1.00\n",
      "==============================================================================\n",
      "\n",
      "Notes:\n",
      "[1] R² is computed without centering (uncentered) since the model does not contain a constant.\n",
      "[2] Standard Errors assume that the covariance matrix of the errors is correctly specified.\n"
     ]
    }
   ],
   "source": [
    "print(models_fwd.loc[1, \"model\"].summary())"
   ]
  },
  {
   "cell_type": "code",
   "execution_count": 73,
   "id": "5f398c5a",
   "metadata": {},
   "outputs": [
    {
     "name": "stdout",
     "output_type": "stream",
     "text": [
      "                                 OLS Regression Results                                \n",
      "=======================================================================================\n",
      "Dep. Variable:                Quality   R-squared (uncentered):                   0.990\n",
      "Model:                            OLS   Adj. R-squared (uncentered):              0.989\n",
      "Method:                 Least Squares   F-statistic:                              1739.\n",
      "Date:                Wed, 29 Mar 2023   Prob (F-statistic):                    1.54e-36\n",
      "Time:                        14:59:00   Log-Likelihood:                         -63.157\n",
      "No. Observations:                  38   AIC:                                      130.3\n",
      "Df Residuals:                      36   BIC:                                      133.6\n",
      "Df Model:                           2                                                  \n",
      "Covariance Type:            nonrobust                                                  \n",
      "==============================================================================\n",
      "                 coef    std err          t      P>|t|      [0.025      0.975]\n",
      "------------------------------------------------------------------------------\n",
      "Flavor         1.7958      0.172     10.445      0.000       1.447       2.144\n",
      "Clarity        4.1515      0.900      4.615      0.000       2.327       5.976\n",
      "==============================================================================\n",
      "Omnibus:                        0.612   Durbin-Watson:                   1.025\n",
      "Prob(Omnibus):                  0.736   Jarque-Bera (JB):                0.693\n",
      "Skew:                           0.121   Prob(JB):                        0.707\n",
      "Kurtosis:                       2.384   Cond. No.                         21.3\n",
      "==============================================================================\n",
      "\n",
      "Notes:\n",
      "[1] R² is computed without centering (uncentered) since the model does not contain a constant.\n",
      "[2] Standard Errors assume that the covariance matrix of the errors is correctly specified.\n"
     ]
    }
   ],
   "source": [
    "print(models_fwd.loc[2, \"model\"].summary())"
   ]
  },
  {
   "cell_type": "code",
   "execution_count": 75,
   "id": "dbe4017b",
   "metadata": {},
   "outputs": [
    {
     "name": "stdout",
     "output_type": "stream",
     "text": [
      "                                 OLS Regression Results                                \n",
      "=======================================================================================\n",
      "Dep. Variable:                Quality   R-squared (uncentered):                   0.991\n",
      "Model:                            OLS   Adj. R-squared (uncentered):              0.990\n",
      "Method:                 Least Squares   F-statistic:                              1222.\n",
      "Date:                Wed, 29 Mar 2023   Prob (F-statistic):                    1.81e-35\n",
      "Time:                        14:59:14   Log-Likelihood:                         -61.640\n",
      "No. Observations:                  38   AIC:                                      129.3\n",
      "Df Residuals:                      35   BIC:                                      134.2\n",
      "Df Model:                           3                                                  \n",
      "Covariance Type:            nonrobust                                                  \n",
      "==============================================================================\n",
      "                 coef    std err          t      P>|t|      [0.025      0.975]\n",
      "------------------------------------------------------------------------------\n",
      "Flavor         1.4326      0.271      5.287      0.000       0.882       1.983\n",
      "Clarity        3.5516      0.945      3.760      0.001       1.634       5.469\n",
      "Body           0.4927      0.289      1.705      0.097      -0.094       1.079\n",
      "==============================================================================\n",
      "Omnibus:                        0.354   Durbin-Watson:                   1.020\n",
      "Prob(Omnibus):                  0.838   Jarque-Bera (JB):                0.517\n",
      "Skew:                           0.014   Prob(JB):                        0.772\n",
      "Kurtosis:                       2.429   Cond. No.                         31.5\n",
      "==============================================================================\n",
      "\n",
      "Notes:\n",
      "[1] R² is computed without centering (uncentered) since the model does not contain a constant.\n",
      "[2] Standard Errors assume that the covariance matrix of the errors is correctly specified.\n"
     ]
    }
   ],
   "source": [
    "print(models_fwd.loc[3, \"model\"].summary())"
   ]
  },
  {
   "cell_type": "code",
   "execution_count": 76,
   "id": "b7148f1c",
   "metadata": {},
   "outputs": [
    {
     "name": "stdout",
     "output_type": "stream",
     "text": [
      "                                 OLS Regression Results                                \n",
      "=======================================================================================\n",
      "Dep. Variable:                Quality   R-squared (uncentered):                   0.992\n",
      "Model:                            OLS   Adj. R-squared (uncentered):              0.991\n",
      "Method:                 Least Squares   F-statistic:                              999.5\n",
      "Date:                Wed, 29 Mar 2023   Prob (F-statistic):                    9.85e-35\n",
      "Time:                        14:59:26   Log-Likelihood:                         -59.462\n",
      "No. Observations:                  38   AIC:                                      126.9\n",
      "Df Residuals:                      34   BIC:                                      133.5\n",
      "Df Model:                           4                                                  \n",
      "Covariance Type:            nonrobust                                                  \n",
      "==============================================================================\n",
      "                 coef    std err          t      P>|t|      [0.025      0.975]\n",
      "------------------------------------------------------------------------------\n",
      "Flavor         1.4670      0.260      5.639      0.000       0.938       1.996\n",
      "Clarity        5.0614      1.171      4.323      0.000       2.682       7.441\n",
      "Body           0.6700      0.290      2.309      0.027       0.080       1.260\n",
      "Oakiness      -0.5634      0.277     -2.032      0.050      -1.127    3.03e-05\n",
      "==============================================================================\n",
      "Omnibus:                        0.810   Durbin-Watson:                   1.026\n",
      "Prob(Omnibus):                  0.667   Jarque-Bera (JB):                0.760\n",
      "Skew:                          -0.317   Prob(JB):                        0.684\n",
      "Kurtosis:                       2.722   Cond. No.                         48.1\n",
      "==============================================================================\n",
      "\n",
      "Notes:\n",
      "[1] R² is computed without centering (uncentered) since the model does not contain a constant.\n",
      "[2] Standard Errors assume that the covariance matrix of the errors is correctly specified.\n"
     ]
    }
   ],
   "source": [
    "print(models_fwd.loc[4, \"model\"].summary())"
   ]
  },
  {
   "cell_type": "code",
   "execution_count": 77,
   "id": "5b4ca0c7",
   "metadata": {},
   "outputs": [
    {
     "name": "stdout",
     "output_type": "stream",
     "text": [
      "                                 OLS Regression Results                                \n",
      "=======================================================================================\n",
      "Dep. Variable:                Quality   R-squared (uncentered):                   0.992\n",
      "Model:                            OLS   Adj. R-squared (uncentered):              0.991\n",
      "Method:                 Least Squares   F-statistic:                              830.1\n",
      "Date:                Wed, 29 Mar 2023   Prob (F-statistic):                    1.11e-33\n",
      "Time:                        14:59:34   Log-Likelihood:                         -58.192\n",
      "No. Observations:                  38   AIC:                                      126.4\n",
      "Df Residuals:                      33   BIC:                                      134.6\n",
      "Df Model:                           5                                                  \n",
      "Covariance Type:            nonrobust                                                  \n",
      "==============================================================================\n",
      "                 coef    std err          t      P>|t|      [0.025      0.975]\n",
      "------------------------------------------------------------------------------\n",
      "Flavor         1.1906      0.314      3.789      0.001       0.551       1.830\n",
      "Clarity        4.6830      1.176      3.981      0.000       2.289       7.076\n",
      "Body           0.5944      0.289      2.055      0.048       0.006       1.183\n",
      "Oakiness      -0.5693      0.272     -2.091      0.044      -1.123      -0.015\n",
      "Aroma          0.4216      0.279      1.510      0.141      -0.146       0.990\n",
      "==============================================================================\n",
      "Omnibus:                        0.136   Durbin-Watson:                   0.957\n",
      "Prob(Omnibus):                  0.934   Jarque-Bera (JB):                0.214\n",
      "Skew:                          -0.128   Prob(JB):                        0.899\n",
      "Kurtosis:                       2.736   Cond. No.                         57.7\n",
      "==============================================================================\n",
      "\n",
      "Notes:\n",
      "[1] R² is computed without centering (uncentered) since the model does not contain a constant.\n",
      "[2] Standard Errors assume that the covariance matrix of the errors is correctly specified.\n"
     ]
    }
   ],
   "source": [
    "print(models_fwd.loc[5, \"model\"].summary())"
   ]
  },
  {
   "cell_type": "code",
   "execution_count": 78,
   "id": "25db5877",
   "metadata": {},
   "outputs": [
    {
     "name": "stdout",
     "output_type": "stream",
     "text": [
      "                                 OLS Regression Results                                \n",
      "=======================================================================================\n",
      "Dep. Variable:                Quality   R-squared (uncentered):                   0.992\n",
      "Model:                            OLS   Adj. R-squared (uncentered):              0.991\n",
      "Method:                 Least Squares   F-statistic:                              671.6\n",
      "Date:                Wed, 29 Mar 2023   Prob (F-statistic):                    3.32e-32\n",
      "Time:                        14:59:41   Log-Likelihood:                         -58.170\n",
      "No. Observations:                  38   AIC:                                      128.3\n",
      "Df Residuals:                      32   BIC:                                      138.2\n",
      "Df Model:                           6                                                  \n",
      "Covariance Type:            nonrobust                                                  \n",
      "==============================================================================\n",
      "                 coef    std err          t      P>|t|      [0.025      0.975]\n",
      "------------------------------------------------------------------------------\n",
      "Flavor         1.1932      0.319      3.738      0.001       0.543       1.843\n",
      "Clarity        4.6842      1.194      3.923      0.000       2.252       7.116\n",
      "Body           0.6018      0.296      2.033      0.050      -0.001       1.205\n",
      "Oakiness      -0.5843      0.287     -2.036      0.050      -1.169       0.000\n",
      "Aroma          0.4476      0.314      1.427      0.163      -0.191       1.087\n",
      "Region        -0.0589      0.305     -0.193      0.848      -0.680       0.562\n",
      "==============================================================================\n",
      "Omnibus:                        0.053   Durbin-Watson:                   0.965\n",
      "Prob(Omnibus):                  0.974   Jarque-Bera (JB):                0.173\n",
      "Skew:                          -0.080   Prob(JB):                        0.917\n",
      "Kurtosis:                       2.711   Cond. No.                         58.9\n",
      "==============================================================================\n",
      "\n",
      "Notes:\n",
      "[1] R² is computed without centering (uncentered) since the model does not contain a constant.\n",
      "[2] Standard Errors assume that the covariance matrix of the errors is correctly specified.\n"
     ]
    }
   ],
   "source": [
    "print(models_fwd.loc[6, \"model\"].summary())"
   ]
  },
  {
   "cell_type": "code",
   "execution_count": 100,
   "id": "6f57b187",
   "metadata": {},
   "outputs": [
    {
     "data": {
      "text/plain": [
       "Text(0, 0.5, 'BIC')"
      ]
     },
     "execution_count": 100,
     "metadata": {},
     "output_type": "execute_result"
    },
    {
     "data": {
      "image/png": "[encoded data removed]",
      "text/plain": [
       "<Figure size 1440x720 with 4 Axes>"
      ]
     },
     "metadata": {
      "needs_background": "light"
     },
     "output_type": "display_data"
    }
   ],
   "source": [
    "plot.figure(figsize=(20,10))\n",
    "plot.rcParams.update({'font.size': 18, 'lines.markersize': 10})\n",
    "\n",
    "# Set up a 2x2 grid so we can look at 4 plots at once\n",
    "plot.subplot(2, 2, 1)\n",
    "\n",
    "# We will now plot a red dot to indicate the model with the largest adjusted R^2 statistic.\n",
    "# The argmax() function can be used to identify the location of the maximum point of a vector\n",
    "plot.plot(models_fwd[\"RSS\"])\n",
    "plot.xlabel('# Predictors')\n",
    "plot.ylabel('RSS')\n",
    "\n",
    "# We will now plot a red dot to indicate the model with the largest adjusted R^2 statistic.\n",
    "# The argmax() function can be used to identify the location of the maximum point of a vector\n",
    "\n",
    "rsquared_adj = models_fwd.apply(lambda row: row[1].rsquared_adj, axis=1)\n",
    "\n",
    "plot.subplot(2, 2, 2)\n",
    "plot.plot(rsquared_adj)\n",
    "plot.plot(rsquared_adj.argmax(), rsquared_adj.max(), \"or\")\n",
    "plot.xlabel('# Predictors')\n",
    "plot.ylabel('adjusted rsquared')\n",
    "\n",
    "# We'll do the same for AIC and BIC, this time looking for the models with the SMALLEST statistic\n",
    "aic = models_fwd.apply(lambda row: row[1].aic, axis=1)\n",
    "\n",
    "plot.subplot(2, 2, 3)\n",
    "plot.plot(aic)\n",
    "plot.plot(aic.argmin(), aic.min(), \"or\")\n",
    "plot.xlabel('# Predictors')\n",
    "plot.ylabel('AIC')\n",
    "\n",
    "bic = models_fwd.apply(lambda row: row[1].bic, axis=1)\n",
    "\n",
    "plot.subplot(2, 2, 4)\n",
    "plot.plot(bic)\n",
    "plot.plot(bic.argmin(), bic.min(), \"or\")\n",
    "plot.xlabel('# Predictors')\n",
    "plot.ylabel('BIC')"
   ]
  },
  {
   "cell_type": "code",
   "execution_count": 166,
   "id": "7e0df9de",
   "metadata": {},
   "outputs": [
    {
     "name": "stdout",
     "output_type": "stream",
     "text": [
      "Test MSE =  1.2767670288530615\n"
     ]
    }
   ],
   "source": [
    "# Test MSE for Model with 4 variables \n",
    "X = wine[['Clarity', 'Body', 'Flavor', 'Oakiness']]\n",
    "y = wine['Quality']\n",
    "X_train, X_test, y_train, y_test = train_test_split(X,y,test_size=0.30,random_state=10)\n",
    "\n",
    "model2 = LinearRegression()\n",
    "model2.fit(X_train, y_train)\n",
    "y_pred = model2.predict(X_test)\n",
    "model2_test = mean_squared_error(y_pred, y_test)\n",
    "print(\"Test MSE = \", model2_test)"
   ]
  },
  {
   "cell_type": "code",
   "execution_count": 80,
   "id": "7c366710",
   "metadata": {},
   "outputs": [],
   "source": [
    "X = wine.drop('Quality', axis=1)\n",
    "y = wine['Quality']\n",
    "X_train, X_test, y_train, y_test = train_test_split(X,y,test_size=0.30,random_state=10)"
   ]
  },
  {
   "cell_type": "code",
   "execution_count": 83,
   "id": "4f5a47c6",
   "metadata": {},
   "outputs": [
    {
     "name": "stdout",
     "output_type": "stream",
     "text": [
      "Processed  6 models on 5 predictors in 0.021027088165283203 seconds.\n",
      "Processed  5 models on 4 predictors in 0.01825881004333496 seconds.\n",
      "Processed  4 models on 3 predictors in 0.009508371353149414 seconds.\n",
      "Processed  3 models on 2 predictors in 0.010406255722045898 seconds.\n",
      "Processed  2 models on 1 predictors in 0.006006956100463867 seconds.\n",
      "Total elapsed time: 0.06970930099487305 seconds.\n"
     ]
    }
   ],
   "source": [
    "# Backwards Selection\n",
    "def backward(predictors):\n",
    "    \n",
    "    tic = time.time()\n",
    "    \n",
    "    results = []\n",
    "    \n",
    "    for combo in itertools.combinations(predictors, len(predictors)-1):\n",
    "        results.append(processSubset(combo))\n",
    "    \n",
    "    # Wrap everything up in a nice dataframe\n",
    "    models = pan.DataFrame(results)\n",
    "    \n",
    "    # Choose the model with the highest RSS\n",
    "    best_model = models.loc[models['RSS'].argmin()]\n",
    "    \n",
    "    toc = time.time()\n",
    "    print(\"Processed \", models.shape[0], \"models on\", len(predictors)-1, \"predictors in\", (toc-tic), \"seconds.\")\n",
    "    \n",
    "    # Return the best model, along with some other useful information about the model\n",
    "    return best_model\n",
    "\n",
    "models_bwd = pan.DataFrame(columns=[\"RSS\", \"model\"], index = range(1,len(X.columns)))\n",
    "\n",
    "tic = time.time()\n",
    "predictors = X.columns\n",
    "\n",
    "while(len(predictors) > 1):  \n",
    "    models_bwd.loc[len(predictors)-1] = backward(predictors)\n",
    "    predictors = models_bwd.loc[len(predictors)-1][\"model\"].model.exog_names\n",
    "\n",
    "toc = time.time()\n",
    "print(\"Total elapsed time:\", (toc-tic), \"seconds.\")"
   ]
  },
  {
   "cell_type": "code",
   "execution_count": 84,
   "id": "8fea8cac",
   "metadata": {},
   "outputs": [
    {
     "name": "stdout",
     "output_type": "stream",
     "text": [
      "                                 OLS Regression Results                                \n",
      "=======================================================================================\n",
      "Dep. Variable:                Quality   R-squared (uncentered):                   0.984\n",
      "Model:                            OLS   Adj. R-squared (uncentered):              0.983\n",
      "Method:                 Least Squares   F-statistic:                              2233.\n",
      "Date:                Wed, 29 Mar 2023   Prob (F-statistic):                    1.11e-34\n",
      "Time:                        15:04:20   Log-Likelihood:                         -71.987\n",
      "No. Observations:                  38   AIC:                                      146.0\n",
      "Df Residuals:                      37   BIC:                                      147.6\n",
      "Df Model:                           1                                                  \n",
      "Covariance Type:            nonrobust                                                  \n",
      "==============================================================================\n",
      "                 coef    std err          t      P>|t|      [0.025      0.975]\n",
      "------------------------------------------------------------------------------\n",
      "Flavor         2.5633      0.054     47.250      0.000       2.453       2.673\n",
      "==============================================================================\n",
      "Omnibus:                        1.979   Durbin-Watson:                   1.433\n",
      "Prob(Omnibus):                  0.372   Jarque-Bera (JB):                1.756\n",
      "Skew:                           0.412   Prob(JB):                        0.416\n",
      "Kurtosis:                       2.345   Cond. No.                         1.00\n",
      "==============================================================================\n",
      "\n",
      "Notes:\n",
      "[1] R² is computed without centering (uncentered) since the model does not contain a constant.\n",
      "[2] Standard Errors assume that the covariance matrix of the errors is correctly specified.\n"
     ]
    }
   ],
   "source": [
    "print(models_bwd.loc[1, \"model\"].summary())"
   ]
  },
  {
   "cell_type": "code",
   "execution_count": 85,
   "id": "70193561",
   "metadata": {},
   "outputs": [
    {
     "name": "stdout",
     "output_type": "stream",
     "text": [
      "                                 OLS Regression Results                                \n",
      "=======================================================================================\n",
      "Dep. Variable:                Quality   R-squared (uncentered):                   0.990\n",
      "Model:                            OLS   Adj. R-squared (uncentered):              0.989\n",
      "Method:                 Least Squares   F-statistic:                              1739.\n",
      "Date:                Wed, 29 Mar 2023   Prob (F-statistic):                    1.54e-36\n",
      "Time:                        15:04:31   Log-Likelihood:                         -63.157\n",
      "No. Observations:                  38   AIC:                                      130.3\n",
      "Df Residuals:                      36   BIC:                                      133.6\n",
      "Df Model:                           2                                                  \n",
      "Covariance Type:            nonrobust                                                  \n",
      "==============================================================================\n",
      "                 coef    std err          t      P>|t|      [0.025      0.975]\n",
      "------------------------------------------------------------------------------\n",
      "Clarity        4.1515      0.900      4.615      0.000       2.327       5.976\n",
      "Flavor         1.7958      0.172     10.445      0.000       1.447       2.144\n",
      "==============================================================================\n",
      "Omnibus:                        0.612   Durbin-Watson:                   1.025\n",
      "Prob(Omnibus):                  0.736   Jarque-Bera (JB):                0.693\n",
      "Skew:                           0.121   Prob(JB):                        0.707\n",
      "Kurtosis:                       2.384   Cond. No.                         21.3\n",
      "==============================================================================\n",
      "\n",
      "Notes:\n",
      "[1] R² is computed without centering (uncentered) since the model does not contain a constant.\n",
      "[2] Standard Errors assume that the covariance matrix of the errors is correctly specified.\n"
     ]
    }
   ],
   "source": [
    "print(models_bwd.loc[2, \"model\"].summary())"
   ]
  },
  {
   "cell_type": "code",
   "execution_count": 86,
   "id": "cc64aebb",
   "metadata": {},
   "outputs": [
    {
     "name": "stdout",
     "output_type": "stream",
     "text": [
      "                                 OLS Regression Results                                \n",
      "=======================================================================================\n",
      "Dep. Variable:                Quality   R-squared (uncentered):                   0.991\n",
      "Model:                            OLS   Adj. R-squared (uncentered):              0.990\n",
      "Method:                 Least Squares   F-statistic:                              1222.\n",
      "Date:                Wed, 29 Mar 2023   Prob (F-statistic):                    1.81e-35\n",
      "Time:                        15:04:38   Log-Likelihood:                         -61.640\n",
      "No. Observations:                  38   AIC:                                      129.3\n",
      "Df Residuals:                      35   BIC:                                      134.2\n",
      "Df Model:                           3                                                  \n",
      "Covariance Type:            nonrobust                                                  \n",
      "==============================================================================\n",
      "                 coef    std err          t      P>|t|      [0.025      0.975]\n",
      "------------------------------------------------------------------------------\n",
      "Clarity        3.5516      0.945      3.760      0.001       1.634       5.469\n",
      "Body           0.4927      0.289      1.705      0.097      -0.094       1.079\n",
      "Flavor         1.4326      0.271      5.287      0.000       0.882       1.983\n",
      "==============================================================================\n",
      "Omnibus:                        0.354   Durbin-Watson:                   1.020\n",
      "Prob(Omnibus):                  0.838   Jarque-Bera (JB):                0.517\n",
      "Skew:                           0.014   Prob(JB):                        0.772\n",
      "Kurtosis:                       2.429   Cond. No.                         31.5\n",
      "==============================================================================\n",
      "\n",
      "Notes:\n",
      "[1] R² is computed without centering (uncentered) since the model does not contain a constant.\n",
      "[2] Standard Errors assume that the covariance matrix of the errors is correctly specified.\n"
     ]
    }
   ],
   "source": [
    "print(models_bwd.loc[3, \"model\"].summary())"
   ]
  },
  {
   "cell_type": "code",
   "execution_count": 87,
   "id": "dfaed25c",
   "metadata": {},
   "outputs": [
    {
     "name": "stdout",
     "output_type": "stream",
     "text": [
      "                                 OLS Regression Results                                \n",
      "=======================================================================================\n",
      "Dep. Variable:                Quality   R-squared (uncentered):                   0.992\n",
      "Model:                            OLS   Adj. R-squared (uncentered):              0.991\n",
      "Method:                 Least Squares   F-statistic:                              999.5\n",
      "Date:                Wed, 29 Mar 2023   Prob (F-statistic):                    9.85e-35\n",
      "Time:                        15:04:45   Log-Likelihood:                         -59.462\n",
      "No. Observations:                  38   AIC:                                      126.9\n",
      "Df Residuals:                      34   BIC:                                      133.5\n",
      "Df Model:                           4                                                  \n",
      "Covariance Type:            nonrobust                                                  \n",
      "==============================================================================\n",
      "                 coef    std err          t      P>|t|      [0.025      0.975]\n",
      "------------------------------------------------------------------------------\n",
      "Clarity        5.0614      1.171      4.323      0.000       2.682       7.441\n",
      "Body           0.6700      0.290      2.309      0.027       0.080       1.260\n",
      "Flavor         1.4670      0.260      5.639      0.000       0.938       1.996\n",
      "Oakiness      -0.5634      0.277     -2.032      0.050      -1.127    3.03e-05\n",
      "==============================================================================\n",
      "Omnibus:                        0.810   Durbin-Watson:                   1.026\n",
      "Prob(Omnibus):                  0.667   Jarque-Bera (JB):                0.760\n",
      "Skew:                          -0.317   Prob(JB):                        0.684\n",
      "Kurtosis:                       2.722   Cond. No.                         48.1\n",
      "==============================================================================\n",
      "\n",
      "Notes:\n",
      "[1] R² is computed without centering (uncentered) since the model does not contain a constant.\n",
      "[2] Standard Errors assume that the covariance matrix of the errors is correctly specified.\n"
     ]
    }
   ],
   "source": [
    "print(models_bwd.loc[4, \"model\"].summary())"
   ]
  },
  {
   "cell_type": "code",
   "execution_count": 88,
   "id": "dfc73267",
   "metadata": {},
   "outputs": [
    {
     "name": "stdout",
     "output_type": "stream",
     "text": [
      "                                 OLS Regression Results                                \n",
      "=======================================================================================\n",
      "Dep. Variable:                Quality   R-squared (uncentered):                   0.992\n",
      "Model:                            OLS   Adj. R-squared (uncentered):              0.991\n",
      "Method:                 Least Squares   F-statistic:                              830.1\n",
      "Date:                Wed, 29 Mar 2023   Prob (F-statistic):                    1.11e-33\n",
      "Time:                        15:04:51   Log-Likelihood:                         -58.192\n",
      "No. Observations:                  38   AIC:                                      126.4\n",
      "Df Residuals:                      33   BIC:                                      134.6\n",
      "Df Model:                           5                                                  \n",
      "Covariance Type:            nonrobust                                                  \n",
      "==============================================================================\n",
      "                 coef    std err          t      P>|t|      [0.025      0.975]\n",
      "------------------------------------------------------------------------------\n",
      "Clarity        4.6830      1.176      3.981      0.000       2.289       7.076\n",
      "Aroma          0.4216      0.279      1.510      0.141      -0.146       0.990\n",
      "Body           0.5944      0.289      2.055      0.048       0.006       1.183\n",
      "Flavor         1.1906      0.314      3.789      0.001       0.551       1.830\n",
      "Oakiness      -0.5693      0.272     -2.091      0.044      -1.123      -0.015\n",
      "==============================================================================\n",
      "Omnibus:                        0.136   Durbin-Watson:                   0.957\n",
      "Prob(Omnibus):                  0.934   Jarque-Bera (JB):                0.214\n",
      "Skew:                          -0.128   Prob(JB):                        0.899\n",
      "Kurtosis:                       2.736   Cond. No.                         57.7\n",
      "==============================================================================\n",
      "\n",
      "Notes:\n",
      "[1] R² is computed without centering (uncentered) since the model does not contain a constant.\n",
      "[2] Standard Errors assume that the covariance matrix of the errors is correctly specified.\n"
     ]
    }
   ],
   "source": [
    "print(models_bwd.loc[5, \"model\"].summary())"
   ]
  },
  {
   "cell_type": "code",
   "execution_count": 101,
   "id": "70b1773b",
   "metadata": {
    "scrolled": true
   },
   "outputs": [
    {
     "data": {
      "text/plain": [
       "Text(0, 0.5, 'BIC')"
      ]
     },
     "execution_count": 101,
     "metadata": {},
     "output_type": "execute_result"
    },
    {
     "data": {
      "image/png": "[encoded data removed]",
      "text/plain": [
       "<Figure size 1440x720 with 4 Axes>"
      ]
     },
     "metadata": {
      "needs_background": "light"
     },
     "output_type": "display_data"
    }
   ],
   "source": [
    "plot.figure(figsize=(20,10))\n",
    "plot.rcParams.update({'font.size': 18, 'lines.markersize': 10})\n",
    "\n",
    "# Set up a 2x2 grid so we can look at 4 plots at once\n",
    "plot.subplot(2, 2, 1)\n",
    "\n",
    "# We will now plot a red dot to indicate the model with the largest adjusted R^2 statistic.\n",
    "# The argmax() function can be used to identify the location of the maximum point of a vector\n",
    "plot.plot(models_bwd[\"RSS\"])\n",
    "plot.xlabel('# Predictors')\n",
    "plot.ylabel('RSS')\n",
    "\n",
    "# We will now plot a red dot to indicate the model with the largest adjusted R^2 statistic.\n",
    "# The argmax() function can be used to identify the location of the maximum point of a vector\n",
    "\n",
    "rsquared_adj = models_bwd.apply(lambda row: row[1].rsquared_adj, axis=1)\n",
    "\n",
    "plot.subplot(2, 2, 2)\n",
    "plot.plot(rsquared_adj)\n",
    "plot.plot(rsquared_adj.argmax(), rsquared_adj.max(), \"or\")\n",
    "plot.xlabel('# Predictors')\n",
    "plot.ylabel('adjusted rsquared')\n",
    "\n",
    "# We'll do the same for AIC and BIC, this time looking for the models with the SMALLEST statistic\n",
    "aic = models_bwd.apply(lambda row: row[1].aic, axis=1)\n",
    "\n",
    "plot.subplot(2, 2, 3)\n",
    "plot.plot(aic)\n",
    "plot.plot(aic.argmin(), aic.min(), \"or\")\n",
    "plot.xlabel('# Predictors')\n",
    "plot.ylabel('AIC')\n",
    "\n",
    "bic = models_bwd.apply(lambda row: row[1].bic, axis=1)\n",
    "\n",
    "plot.subplot(2, 2, 4)\n",
    "plot.plot(bic)\n",
    "plot.plot(bic.argmin(), bic.min(), \"or\")\n",
    "plot.xlabel('# Predictors')\n",
    "plot.ylabel('BIC')"
   ]
  },
  {
   "cell_type": "code",
   "execution_count": 167,
   "id": "eaf05538",
   "metadata": {},
   "outputs": [
    {
     "name": "stdout",
     "output_type": "stream",
     "text": [
      "Test MSE =  1.2767670288530615\n"
     ]
    }
   ],
   "source": [
    "# Test MSE for Model with 4 variables \n",
    "X = wine[['Clarity', 'Body', 'Flavor', 'Oakiness']]\n",
    "y = wine['Quality']\n",
    "X_train, X_test, y_train, y_test = train_test_split(X,y,test_size=0.30,random_state=10)\n",
    "\n",
    "model3 = LinearRegression()\n",
    "model3.fit(X_train, y_train)\n",
    "y_pred = model3.predict(X_test)\n",
    "model3_test = mean_squared_error(y_pred, y_test)\n",
    "print(\"Test MSE = \", model3_test)"
   ]
  },
  {
   "cell_type": "code",
   "execution_count": 170,
   "id": "d32956f3",
   "metadata": {},
   "outputs": [
    {
     "name": "stdout",
     "output_type": "stream",
     "text": [
      "Test MSE =  1.1463948724715238\n"
     ]
    }
   ],
   "source": [
    "X = wine.drop('Quality', axis=1)\n",
    "y = wine['Quality']\n",
    "X_train, X_test, y_train, y_test = train_test_split(X,y,test_size=0.30,random_state=10)\n",
    "\n",
    "# Ridge Regression\n",
    "# define evaluation\n",
    "cv = LeaveOneOut()\n",
    "# cv = RepeatedKFold(n_splits=10, n_repeats=3, random_state=1)\n",
    "# define model\n",
    "model4 = Ridge()\n",
    "model4.fit(X_train,y_train)\n",
    "scores = cross_val_score(model4, X_train, y_train, scoring='neg_mean_absolute_error', cv=cv, n_jobs=-1)\n",
    "#view mean absolute error\n",
    "model4_test = mean(absolute(scores))\n",
    "print(\"Test MSE = \", model4_test)"
   ]
  },
  {
   "cell_type": "code",
   "execution_count": 171,
   "id": "728fe4ac",
   "metadata": {},
   "outputs": [
    {
     "name": "stdout",
     "output_type": "stream",
     "text": [
      "Test MSE =  1.6257986177955628\n"
     ]
    }
   ],
   "source": [
    "# Lasso Regression\n",
    "# define evaluation\n",
    "cv = LeaveOneOut()\n",
    "# define model\n",
    "model5 = Lasso()\n",
    "model5.fit(X_train,y_train)\n",
    "scores = cross_val_score(model5, X_train, y_train, scoring='neg_mean_absolute_error', cv=cv, n_jobs=-1)\n",
    "#view mean absolute error\n",
    "model5_test = mean(absolute(scores))\n",
    "print(\"Test MSE = \", model5_test)"
   ]
  },
  {
   "cell_type": "code",
   "execution_count": 180,
   "id": "eaea16d4",
   "metadata": {},
   "outputs": [
    {
     "name": "stdout",
     "output_type": "stream",
     "text": [
      "                                                                LinReg  \\\n",
      "Parameter Estimates  [2.0694318952581705, 0.5163993944124755, 0.531...   \n",
      "Test MSE                                                      1.266437   \n",
      "\n",
      "                                                               BestSub  \\\n",
      "Parameter Estimates  [3.0614723208405006, 0.6915595636655764, 1.431...   \n",
      "Test MSE                                                      1.276767   \n",
      "\n",
      "                                                                 ForwS  \\\n",
      "Parameter Estimates  [3.0614723208405006, 0.6915595636655764, 1.431...   \n",
      "Test MSE                                                      1.276767   \n",
      "\n",
      "                                                                 BackS  \\\n",
      "Parameter Estimates  [3.0614723208405006, 0.6915595636655764, 1.431...   \n",
      "Test MSE                                                      1.276767   \n",
      "\n",
      "                                                                 Ridge  \\\n",
      "Parameter Estimates  [0.496343322275931, 0.5917526872932672, 0.4000...   \n",
      "Test MSE                                                      1.146395   \n",
      "\n",
      "                                                              Lasso  \n",
      "Parameter Estimates  [0.0, 0.0, 0.0, 0.4456113893825961, -0.0, 0.0]  \n",
      "Test MSE                                                   1.625799  \n"
     ]
    }
   ],
   "source": [
    "df = pan.DataFrame({\n",
    "   'ColumnA': [lr.coef_, lr_test],\n",
    "   'ColumnB': [model1.coef_, model1_test],\n",
    "   'ColumnC': [model2.coef_, model2_test],\n",
    "   'ColumnD': [model3.coef_, model3_test],\n",
    "   'ColumnE': [model4.coef_, model4_test],\n",
    "   'ColumnF': [model5.coef_, model5_test]\n",
    "},\n",
    "index=[\"Parameter Estimates\",\"Test MSE\"])\n",
    "df.columns=['LinReg', 'BestSub', 'ForwS', 'BackS', 'Ridge', 'Lasso']\n",
    "print(df)"
   ]
  }
 ],
 "metadata": {
  "kernelspec": {
   "display_name": "Python 3 (ipykernel)",
   "language": "python",
   "name": "python3"
  },
  "language_info": {
   "codemirror_mode": {
    "name": "ipython",
    "version": 3
   },
   "file_extension": ".py",
   "mimetype": "text/x-python",
   "name": "python",
   "nbconvert_exporter": "python",
   "pygments_lexer": "ipython3",
   "version": "3.9.12"
  }
 },
 "nbformat": 4,
 "nbformat_minor": 5
}
