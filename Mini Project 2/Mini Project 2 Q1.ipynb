{
 "cells": [
  {
   "cell_type": "code",
   "execution_count": 61,
   "id": "4b2f60ed",
   "metadata": {},
   "outputs": [],
   "source": [
    "import numpy as np\n",
    "import pandas as pan\n",
    "import matplotlib.pyplot as plot\n",
    "from sklearn.linear_model import LinearRegression\n",
    "import statsmodels.api as sm\n",
    "from statsmodels.formula.api import ols"
   ]
  },
  {
   "cell_type": "code",
   "execution_count": 30,
   "id": "163c3a6b",
   "metadata": {},
   "outputs": [
    {
     "name": "stdout",
     "output_type": "stream",
     "text": [
      "    Clarity  Aroma  Body  Flavor  Oakiness  Quality  Region\n",
      "0       1.0    3.3   2.8     3.1       4.1      9.8       1\n",
      "1       1.0    4.4   4.9     3.5       3.9     12.6       1\n",
      "2       1.0    3.9   5.3     4.8       4.7     11.9       1\n",
      "3       1.0    3.9   2.6     3.1       3.6     11.1       1\n",
      "4       1.0    5.6   5.1     5.5       5.1     13.3       1\n",
      "5       1.0    4.6   4.7     5.0       4.1     12.8       1\n",
      "6       1.0    4.8   4.8     4.8       3.3     12.8       1\n",
      "7       1.0    5.3   4.5     4.3       5.2     12.0       1\n",
      "8       1.0    4.3   4.3     3.9       2.9     13.6       3\n",
      "9       1.0    4.3   3.9     4.7       3.9     13.9       1\n",
      "10      1.0    5.1   4.3     4.5       3.6     14.4       3\n",
      "11      0.5    3.3   5.4     4.3       3.6     12.3       2\n",
      "12      0.8    5.9   5.7     7.0       4.1     16.1       3\n",
      "13      0.7    7.7   6.6     6.7       3.7     16.1       3\n",
      "14      1.0    7.1   4.4     5.8       4.1     15.5       3\n",
      "15      0.9    5.5   5.6     5.6       4.4     15.5       3\n",
      "16      1.0    6.3   5.4     4.8       4.6     13.8       3\n",
      "17      1.0    5.0   5.5     5.5       4.1     13.8       3\n",
      "18      1.0    4.6   4.1     4.3       3.1     11.3       1\n",
      "19      0.9    3.4   5.0     3.4       3.4      7.9       2\n",
      "20      0.9    6.4   5.4     6.6       4.8     15.1       3\n",
      "21      1.0    5.5   5.3     5.3       3.8     13.5       3\n",
      "22      0.7    4.7   4.1     5.0       3.7     10.8       2\n",
      "23      0.7    4.1   4.0     4.1       4.0      9.5       2\n",
      "24      1.0    6.0   5.4     5.7       4.7     12.7       3\n",
      "25      1.0    4.3   4.6     4.7       4.9     11.6       2\n",
      "26      1.0    3.9   4.0     5.1       5.1     11.7       1\n",
      "27      1.0    5.1   4.9     5.0       5.1     11.9       2\n",
      "28      1.0    3.9   4.4     5.0       4.4     10.8       2\n",
      "29      1.0    4.5   3.7     2.9       3.9      8.5       2\n",
      "30      1.0    5.2   4.3     5.0       6.0     10.7       2\n",
      "31      0.8    4.2   3.8     3.0       4.7      9.1       1\n",
      "32      1.0    3.3   3.5     4.3       4.5     12.1       1\n",
      "33      1.0    6.8   5.0     6.0       5.2     14.9       3\n",
      "34      0.8    5.0   5.7     5.5       4.8     13.5       1\n",
      "35      0.8    3.5   4.7     4.2       3.3     12.2       1\n",
      "36      0.8    4.3   5.5     3.5       5.8     10.3       1\n",
      "37      0.8    5.2   4.8     5.7       3.5     13.2       1\n"
     ]
    }
   ],
   "source": [
    "# Read wine data\n",
    "wine = pan.read_csv('wine.txt', sep=\"\\t\", header=0)\n",
    "# Show data\n",
    "print(wine)"
   ]
  },
  {
   "cell_type": "code",
   "execution_count": 42,
   "id": "cc5f76f0",
   "metadata": {},
   "outputs": [
    {
     "data": {
      "text/html": [
       "<div>\n",
       "<style scoped>\n",
       "    .dataframe tbody tr th:only-of-type {\n",
       "        vertical-align: middle;\n",
       "    }\n",
       "\n",
       "    .dataframe tbody tr th {\n",
       "        vertical-align: top;\n",
       "    }\n",
       "\n",
       "    .dataframe thead th {\n",
       "        text-align: right;\n",
       "    }\n",
       "</style>\n",
       "<table border=\"1\" class=\"dataframe\">\n",
       "  <thead>\n",
       "    <tr style=\"text-align: right;\">\n",
       "      <th></th>\n",
       "      <th>Clarity</th>\n",
       "      <th>Aroma</th>\n",
       "      <th>Body</th>\n",
       "      <th>Flavor</th>\n",
       "      <th>Oakiness</th>\n",
       "      <th>Quality</th>\n",
       "      <th>Region</th>\n",
       "    </tr>\n",
       "  </thead>\n",
       "  <tbody>\n",
       "    <tr>\n",
       "      <th>0</th>\n",
       "      <td>1.0</td>\n",
       "      <td>3.3</td>\n",
       "      <td>2.8</td>\n",
       "      <td>3.1</td>\n",
       "      <td>4.1</td>\n",
       "      <td>9.8</td>\n",
       "      <td>1</td>\n",
       "    </tr>\n",
       "    <tr>\n",
       "      <th>1</th>\n",
       "      <td>1.0</td>\n",
       "      <td>4.4</td>\n",
       "      <td>4.9</td>\n",
       "      <td>3.5</td>\n",
       "      <td>3.9</td>\n",
       "      <td>12.6</td>\n",
       "      <td>1</td>\n",
       "    </tr>\n",
       "    <tr>\n",
       "      <th>2</th>\n",
       "      <td>1.0</td>\n",
       "      <td>3.9</td>\n",
       "      <td>5.3</td>\n",
       "      <td>4.8</td>\n",
       "      <td>4.7</td>\n",
       "      <td>11.9</td>\n",
       "      <td>1</td>\n",
       "    </tr>\n",
       "    <tr>\n",
       "      <th>3</th>\n",
       "      <td>1.0</td>\n",
       "      <td>3.9</td>\n",
       "      <td>2.6</td>\n",
       "      <td>3.1</td>\n",
       "      <td>3.6</td>\n",
       "      <td>11.1</td>\n",
       "      <td>1</td>\n",
       "    </tr>\n",
       "    <tr>\n",
       "      <th>4</th>\n",
       "      <td>1.0</td>\n",
       "      <td>5.6</td>\n",
       "      <td>5.1</td>\n",
       "      <td>5.5</td>\n",
       "      <td>5.1</td>\n",
       "      <td>13.3</td>\n",
       "      <td>1</td>\n",
       "    </tr>\n",
       "  </tbody>\n",
       "</table>\n",
       "</div>"
      ],
      "text/plain": [
       "   Clarity  Aroma  Body  Flavor  Oakiness  Quality  Region\n",
       "0      1.0    3.3   2.8     3.1       4.1      9.8       1\n",
       "1      1.0    4.4   4.9     3.5       3.9     12.6       1\n",
       "2      1.0    3.9   5.3     4.8       4.7     11.9       1\n",
       "3      1.0    3.9   2.6     3.1       3.6     11.1       1\n",
       "4      1.0    5.6   5.1     5.5       5.1     13.3       1"
      ]
     },
     "execution_count": 42,
     "metadata": {},
     "output_type": "execute_result"
    }
   ],
   "source": [
    "# Gather info about wine data\n",
    "wine.head()"
   ]
  },
  {
   "cell_type": "code",
   "execution_count": 43,
   "id": "5bd9dfc5",
   "metadata": {},
   "outputs": [
    {
     "data": {
      "text/html": [
       "<div>\n",
       "<style scoped>\n",
       "    .dataframe tbody tr th:only-of-type {\n",
       "        vertical-align: middle;\n",
       "    }\n",
       "\n",
       "    .dataframe tbody tr th {\n",
       "        vertical-align: top;\n",
       "    }\n",
       "\n",
       "    .dataframe thead th {\n",
       "        text-align: right;\n",
       "    }\n",
       "</style>\n",
       "<table border=\"1\" class=\"dataframe\">\n",
       "  <thead>\n",
       "    <tr style=\"text-align: right;\">\n",
       "      <th></th>\n",
       "      <th>Clarity</th>\n",
       "      <th>Aroma</th>\n",
       "      <th>Body</th>\n",
       "      <th>Flavor</th>\n",
       "      <th>Oakiness</th>\n",
       "      <th>Quality</th>\n",
       "      <th>Region</th>\n",
       "    </tr>\n",
       "  </thead>\n",
       "  <tbody>\n",
       "    <tr>\n",
       "      <th>33</th>\n",
       "      <td>1.0</td>\n",
       "      <td>6.8</td>\n",
       "      <td>5.0</td>\n",
       "      <td>6.0</td>\n",
       "      <td>5.2</td>\n",
       "      <td>14.9</td>\n",
       "      <td>3</td>\n",
       "    </tr>\n",
       "    <tr>\n",
       "      <th>34</th>\n",
       "      <td>0.8</td>\n",
       "      <td>5.0</td>\n",
       "      <td>5.7</td>\n",
       "      <td>5.5</td>\n",
       "      <td>4.8</td>\n",
       "      <td>13.5</td>\n",
       "      <td>1</td>\n",
       "    </tr>\n",
       "    <tr>\n",
       "      <th>35</th>\n",
       "      <td>0.8</td>\n",
       "      <td>3.5</td>\n",
       "      <td>4.7</td>\n",
       "      <td>4.2</td>\n",
       "      <td>3.3</td>\n",
       "      <td>12.2</td>\n",
       "      <td>1</td>\n",
       "    </tr>\n",
       "    <tr>\n",
       "      <th>36</th>\n",
       "      <td>0.8</td>\n",
       "      <td>4.3</td>\n",
       "      <td>5.5</td>\n",
       "      <td>3.5</td>\n",
       "      <td>5.8</td>\n",
       "      <td>10.3</td>\n",
       "      <td>1</td>\n",
       "    </tr>\n",
       "    <tr>\n",
       "      <th>37</th>\n",
       "      <td>0.8</td>\n",
       "      <td>5.2</td>\n",
       "      <td>4.8</td>\n",
       "      <td>5.7</td>\n",
       "      <td>3.5</td>\n",
       "      <td>13.2</td>\n",
       "      <td>1</td>\n",
       "    </tr>\n",
       "  </tbody>\n",
       "</table>\n",
       "</div>"
      ],
      "text/plain": [
       "    Clarity  Aroma  Body  Flavor  Oakiness  Quality  Region\n",
       "33      1.0    6.8   5.0     6.0       5.2     14.9       3\n",
       "34      0.8    5.0   5.7     5.5       4.8     13.5       1\n",
       "35      0.8    3.5   4.7     4.2       3.3     12.2       1\n",
       "36      0.8    4.3   5.5     3.5       5.8     10.3       1\n",
       "37      0.8    5.2   4.8     5.7       3.5     13.2       1"
      ]
     },
     "execution_count": 43,
     "metadata": {},
     "output_type": "execute_result"
    }
   ],
   "source": [
    "wine.tail()"
   ]
  },
  {
   "cell_type": "code",
   "execution_count": 36,
   "id": "0876c687",
   "metadata": {},
   "outputs": [
    {
     "data": {
      "text/html": [
       "<div>\n",
       "<style scoped>\n",
       "    .dataframe tbody tr th:only-of-type {\n",
       "        vertical-align: middle;\n",
       "    }\n",
       "\n",
       "    .dataframe tbody tr th {\n",
       "        vertical-align: top;\n",
       "    }\n",
       "\n",
       "    .dataframe thead th {\n",
       "        text-align: right;\n",
       "    }\n",
       "</style>\n",
       "<table border=\"1\" class=\"dataframe\">\n",
       "  <thead>\n",
       "    <tr style=\"text-align: right;\">\n",
       "      <th></th>\n",
       "      <th>Clarity</th>\n",
       "      <th>Aroma</th>\n",
       "      <th>Body</th>\n",
       "      <th>Flavor</th>\n",
       "      <th>Oakiness</th>\n",
       "      <th>Quality</th>\n",
       "      <th>Region</th>\n",
       "    </tr>\n",
       "  </thead>\n",
       "  <tbody>\n",
       "    <tr>\n",
       "      <th>count</th>\n",
       "      <td>38.000000</td>\n",
       "      <td>38.000000</td>\n",
       "      <td>38.000000</td>\n",
       "      <td>38.000000</td>\n",
       "      <td>38.000000</td>\n",
       "      <td>38.000000</td>\n",
       "      <td>38.000000</td>\n",
       "    </tr>\n",
       "    <tr>\n",
       "      <th>mean</th>\n",
       "      <td>0.923684</td>\n",
       "      <td>4.847368</td>\n",
       "      <td>4.684211</td>\n",
       "      <td>4.768421</td>\n",
       "      <td>4.255263</td>\n",
       "      <td>12.436842</td>\n",
       "      <td>1.868421</td>\n",
       "    </tr>\n",
       "    <tr>\n",
       "      <th>std</th>\n",
       "      <td>0.123975</td>\n",
       "      <td>1.082474</td>\n",
       "      <td>0.824138</td>\n",
       "      <td>1.028014</td>\n",
       "      <td>0.738039</td>\n",
       "      <td>2.045353</td>\n",
       "      <td>0.875216</td>\n",
       "    </tr>\n",
       "    <tr>\n",
       "      <th>min</th>\n",
       "      <td>0.500000</td>\n",
       "      <td>3.300000</td>\n",
       "      <td>2.600000</td>\n",
       "      <td>2.900000</td>\n",
       "      <td>2.900000</td>\n",
       "      <td>7.900000</td>\n",
       "      <td>1.000000</td>\n",
       "    </tr>\n",
       "    <tr>\n",
       "      <th>25%</th>\n",
       "      <td>0.825000</td>\n",
       "      <td>4.125000</td>\n",
       "      <td>4.150000</td>\n",
       "      <td>4.225000</td>\n",
       "      <td>3.700000</td>\n",
       "      <td>11.150000</td>\n",
       "      <td>1.000000</td>\n",
       "    </tr>\n",
       "    <tr>\n",
       "      <th>50%</th>\n",
       "      <td>1.000000</td>\n",
       "      <td>4.650000</td>\n",
       "      <td>4.750000</td>\n",
       "      <td>4.800000</td>\n",
       "      <td>4.100000</td>\n",
       "      <td>12.450000</td>\n",
       "      <td>2.000000</td>\n",
       "    </tr>\n",
       "    <tr>\n",
       "      <th>75%</th>\n",
       "      <td>1.000000</td>\n",
       "      <td>5.450000</td>\n",
       "      <td>5.375000</td>\n",
       "      <td>5.500000</td>\n",
       "      <td>4.775000</td>\n",
       "      <td>13.750000</td>\n",
       "      <td>3.000000</td>\n",
       "    </tr>\n",
       "    <tr>\n",
       "      <th>max</th>\n",
       "      <td>1.000000</td>\n",
       "      <td>7.700000</td>\n",
       "      <td>6.600000</td>\n",
       "      <td>7.000000</td>\n",
       "      <td>6.000000</td>\n",
       "      <td>16.100000</td>\n",
       "      <td>3.000000</td>\n",
       "    </tr>\n",
       "  </tbody>\n",
       "</table>\n",
       "</div>"
      ],
      "text/plain": [
       "         Clarity      Aroma       Body     Flavor   Oakiness    Quality  \\\n",
       "count  38.000000  38.000000  38.000000  38.000000  38.000000  38.000000   \n",
       "mean    0.923684   4.847368   4.684211   4.768421   4.255263  12.436842   \n",
       "std     0.123975   1.082474   0.824138   1.028014   0.738039   2.045353   \n",
       "min     0.500000   3.300000   2.600000   2.900000   2.900000   7.900000   \n",
       "25%     0.825000   4.125000   4.150000   4.225000   3.700000  11.150000   \n",
       "50%     1.000000   4.650000   4.750000   4.800000   4.100000  12.450000   \n",
       "75%     1.000000   5.450000   5.375000   5.500000   4.775000  13.750000   \n",
       "max     1.000000   7.700000   6.600000   7.000000   6.000000  16.100000   \n",
       "\n",
       "          Region  \n",
       "count  38.000000  \n",
       "mean    1.868421  \n",
       "std     0.875216  \n",
       "min     1.000000  \n",
       "25%     1.000000  \n",
       "50%     2.000000  \n",
       "75%     3.000000  \n",
       "max     3.000000  "
      ]
     },
     "execution_count": 36,
     "metadata": {},
     "output_type": "execute_result"
    }
   ],
   "source": [
    "wine.describe()"
   ]
  },
  {
   "cell_type": "code",
   "execution_count": 46,
   "id": "6da916c5",
   "metadata": {},
   "outputs": [
    {
     "name": "stdout",
     "output_type": "stream",
     "text": [
      "<class 'pandas.core.frame.DataFrame'>\n",
      "RangeIndex: 38 entries, 0 to 37\n",
      "Data columns (total 7 columns):\n",
      " #   Column    Non-Null Count  Dtype  \n",
      "---  ------    --------------  -----  \n",
      " 0   Clarity   38 non-null     float64\n",
      " 1   Aroma     38 non-null     float64\n",
      " 2   Body      38 non-null     float64\n",
      " 3   Flavor    38 non-null     float64\n",
      " 4   Oakiness  38 non-null     float64\n",
      " 5   Quality   38 non-null     float64\n",
      " 6   Region    38 non-null     int64  \n",
      "dtypes: float64(6), int64(1)\n",
      "memory usage: 2.2 KB\n"
     ]
    },
    {
     "data": {
      "text/plain": [
       "(38, 7)"
      ]
     },
     "execution_count": 46,
     "metadata": {},
     "output_type": "execute_result"
    }
   ],
   "source": [
    "wine.info()\n",
    "wine.shape"
   ]
  },
  {
   "cell_type": "code",
   "execution_count": 52,
   "id": "b8fce1e0",
   "metadata": {},
   "outputs": [
    {
     "data": {
      "text/html": [
       "<div>\n",
       "<style scoped>\n",
       "    .dataframe tbody tr th:only-of-type {\n",
       "        vertical-align: middle;\n",
       "    }\n",
       "\n",
       "    .dataframe tbody tr th {\n",
       "        vertical-align: top;\n",
       "    }\n",
       "\n",
       "    .dataframe thead th {\n",
       "        text-align: right;\n",
       "    }\n",
       "</style>\n",
       "<table border=\"1\" class=\"dataframe\">\n",
       "  <thead>\n",
       "    <tr style=\"text-align: right;\">\n",
       "      <th></th>\n",
       "      <th>Quality</th>\n",
       "      <th>Clarity</th>\n",
       "    </tr>\n",
       "  </thead>\n",
       "  <tbody>\n",
       "    <tr>\n",
       "      <th>Quality</th>\n",
       "      <td>1.000000</td>\n",
       "      <td>0.028441</td>\n",
       "    </tr>\n",
       "    <tr>\n",
       "      <th>Clarity</th>\n",
       "      <td>0.028441</td>\n",
       "      <td>1.000000</td>\n",
       "    </tr>\n",
       "  </tbody>\n",
       "</table>\n",
       "</div>"
      ],
      "text/plain": [
       "          Quality   Clarity\n",
       "Quality  1.000000  0.028441\n",
       "Clarity  0.028441  1.000000"
      ]
     },
     "execution_count": 52,
     "metadata": {},
     "output_type": "execute_result"
    },
    {
     "data": {
      "image/png": "[encoded data removed]",
      "text/plain": [
       "<Figure size 432x288 with 1 Axes>"
      ]
     },
     "metadata": {
      "needs_background": "light"
     },
     "output_type": "display_data"
    }
   ],
   "source": [
    "# Plot for Quality vs Clarity\n",
    "wine.plot.scatter(x = 'Quality', y = 'Clarity')\n",
    "wine[['Quality','Clarity']].corr()\n",
    "# Low relevelance"
   ]
  },
  {
   "cell_type": "code",
   "execution_count": 68,
   "id": "f5609b7e",
   "metadata": {},
   "outputs": [
    {
     "data": {
      "text/html": [
       "<div>\n",
       "<style scoped>\n",
       "    .dataframe tbody tr th:only-of-type {\n",
       "        vertical-align: middle;\n",
       "    }\n",
       "\n",
       "    .dataframe tbody tr th {\n",
       "        vertical-align: top;\n",
       "    }\n",
       "\n",
       "    .dataframe thead th {\n",
       "        text-align: right;\n",
       "    }\n",
       "</style>\n",
       "<table border=\"1\" class=\"dataframe\">\n",
       "  <thead>\n",
       "    <tr style=\"text-align: right;\">\n",
       "      <th></th>\n",
       "      <th>Quality</th>\n",
       "      <th>Aroma</th>\n",
       "    </tr>\n",
       "  </thead>\n",
       "  <tbody>\n",
       "    <tr>\n",
       "      <th>Quality</th>\n",
       "      <td>1.000000</td>\n",
       "      <td>0.707324</td>\n",
       "    </tr>\n",
       "    <tr>\n",
       "      <th>Aroma</th>\n",
       "      <td>0.707324</td>\n",
       "      <td>1.000000</td>\n",
       "    </tr>\n",
       "  </tbody>\n",
       "</table>\n",
       "</div>"
      ],
      "text/plain": [
       "          Quality     Aroma\n",
       "Quality  1.000000  0.707324\n",
       "Aroma    0.707324  1.000000"
      ]
     },
     "execution_count": 68,
     "metadata": {},
     "output_type": "execute_result"
    },
    {
     "data": {
      "image/png": "[encoded data removed]",
      "text/plain": [
       "<Figure size 432x288 with 1 Axes>"
      ]
     },
     "metadata": {
      "needs_background": "light"
     },
     "output_type": "display_data"
    }
   ],
   "source": [
    "# Plot for Quality vs Aroma\n",
    "wine.plot.scatter(x = 'Quality', y = 'Aroma')\n",
    "wine[['Quality', 'Aroma']].corr()\n",
    "# High relevance "
   ]
  },
  {
   "cell_type": "code",
   "execution_count": 54,
   "id": "0cc65119",
   "metadata": {},
   "outputs": [
    {
     "data": {
      "text/html": [
       "<div>\n",
       "<style scoped>\n",
       "    .dataframe tbody tr th:only-of-type {\n",
       "        vertical-align: middle;\n",
       "    }\n",
       "\n",
       "    .dataframe tbody tr th {\n",
       "        vertical-align: top;\n",
       "    }\n",
       "\n",
       "    .dataframe thead th {\n",
       "        text-align: right;\n",
       "    }\n",
       "</style>\n",
       "<table border=\"1\" class=\"dataframe\">\n",
       "  <thead>\n",
       "    <tr style=\"text-align: right;\">\n",
       "      <th></th>\n",
       "      <th>Quality</th>\n",
       "      <th>Body</th>\n",
       "    </tr>\n",
       "  </thead>\n",
       "  <tbody>\n",
       "    <tr>\n",
       "      <th>Quality</th>\n",
       "      <td>1.000000</td>\n",
       "      <td>0.548702</td>\n",
       "    </tr>\n",
       "    <tr>\n",
       "      <th>Body</th>\n",
       "      <td>0.548702</td>\n",
       "      <td>1.000000</td>\n",
       "    </tr>\n",
       "  </tbody>\n",
       "</table>\n",
       "</div>"
      ],
      "text/plain": [
       "          Quality      Body\n",
       "Quality  1.000000  0.548702\n",
       "Body     0.548702  1.000000"
      ]
     },
     "execution_count": 54,
     "metadata": {},
     "output_type": "execute_result"
    },
    {
     "data": {
      "image/png": "[encoded data removed]",
      "text/plain": [
       "<Figure size 432x288 with 1 Axes>"
      ]
     },
     "metadata": {
      "needs_background": "light"
     },
     "output_type": "display_data"
    }
   ],
   "source": [
    "# Plot for Quality vs Body\n",
    "wine.plot.scatter(x = 'Quality', y = 'Body')\n",
    "wine[['Quality','Body']].corr()\n",
    "# Medium Relevance"
   ]
  },
  {
   "cell_type": "code",
   "execution_count": 55,
   "id": "742ce302",
   "metadata": {},
   "outputs": [
    {
     "data": {
      "text/html": [
       "<div>\n",
       "<style scoped>\n",
       "    .dataframe tbody tr th:only-of-type {\n",
       "        vertical-align: middle;\n",
       "    }\n",
       "\n",
       "    .dataframe tbody tr th {\n",
       "        vertical-align: top;\n",
       "    }\n",
       "\n",
       "    .dataframe thead th {\n",
       "        text-align: right;\n",
       "    }\n",
       "</style>\n",
       "<table border=\"1\" class=\"dataframe\">\n",
       "  <thead>\n",
       "    <tr style=\"text-align: right;\">\n",
       "      <th></th>\n",
       "      <th>Quality</th>\n",
       "      <th>Flavor</th>\n",
       "    </tr>\n",
       "  </thead>\n",
       "  <tbody>\n",
       "    <tr>\n",
       "      <th>Quality</th>\n",
       "      <td>1.000000</td>\n",
       "      <td>0.790047</td>\n",
       "    </tr>\n",
       "    <tr>\n",
       "      <th>Flavor</th>\n",
       "      <td>0.790047</td>\n",
       "      <td>1.000000</td>\n",
       "    </tr>\n",
       "  </tbody>\n",
       "</table>\n",
       "</div>"
      ],
      "text/plain": [
       "          Quality    Flavor\n",
       "Quality  1.000000  0.790047\n",
       "Flavor   0.790047  1.000000"
      ]
     },
     "execution_count": 55,
     "metadata": {},
     "output_type": "execute_result"
    },
    {
     "data": {
      "image/png": "[encoded data removed]",
      "text/plain": [
       "<Figure size 432x288 with 1 Axes>"
      ]
     },
     "metadata": {
      "needs_background": "light"
     },
     "output_type": "display_data"
    }
   ],
   "source": [
    "# Plot for Quality vs Flavor\n",
    "wine.plot.scatter(x = 'Quality', y = 'Flavor')\n",
    "wine[['Quality','Flavor']].corr()"
   ]
  },
  {
   "cell_type": "code",
   "execution_count": 56,
   "id": "7988db62",
   "metadata": {},
   "outputs": [
    {
     "data": {
      "text/html": [
       "<div>\n",
       "<style scoped>\n",
       "    .dataframe tbody tr th:only-of-type {\n",
       "        vertical-align: middle;\n",
       "    }\n",
       "\n",
       "    .dataframe tbody tr th {\n",
       "        vertical-align: top;\n",
       "    }\n",
       "\n",
       "    .dataframe thead th {\n",
       "        text-align: right;\n",
       "    }\n",
       "</style>\n",
       "<table border=\"1\" class=\"dataframe\">\n",
       "  <thead>\n",
       "    <tr style=\"text-align: right;\">\n",
       "      <th></th>\n",
       "      <th>Quality</th>\n",
       "      <th>Oakiness</th>\n",
       "    </tr>\n",
       "  </thead>\n",
       "  <tbody>\n",
       "    <tr>\n",
       "      <th>Quality</th>\n",
       "      <td>1.00000</td>\n",
       "      <td>-0.04704</td>\n",
       "    </tr>\n",
       "    <tr>\n",
       "      <th>Oakiness</th>\n",
       "      <td>-0.04704</td>\n",
       "      <td>1.00000</td>\n",
       "    </tr>\n",
       "  </tbody>\n",
       "</table>\n",
       "</div>"
      ],
      "text/plain": [
       "          Quality  Oakiness\n",
       "Quality   1.00000  -0.04704\n",
       "Oakiness -0.04704   1.00000"
      ]
     },
     "execution_count": 56,
     "metadata": {},
     "output_type": "execute_result"
    },
    {
     "data": {
      "image/png": "[encoded data removed]",
      "text/plain": [
       "<Figure size 432x288 with 1 Axes>"
      ]
     },
     "metadata": {
      "needs_background": "light"
     },
     "output_type": "display_data"
    }
   ],
   "source": [
    "# Plot for Quality vs Oakiness\n",
    "wine.plot.scatter(x = 'Quality', y = 'Oakiness')\n",
    "wine[['Quality','Oakiness']].corr()\n",
    "# High relevance"
   ]
  },
  {
   "cell_type": "code",
   "execution_count": 57,
   "id": "1ca42e71",
   "metadata": {},
   "outputs": [
    {
     "data": {
      "text/html": [
       "<div>\n",
       "<style scoped>\n",
       "    .dataframe tbody tr th:only-of-type {\n",
       "        vertical-align: middle;\n",
       "    }\n",
       "\n",
       "    .dataframe tbody tr th {\n",
       "        vertical-align: top;\n",
       "    }\n",
       "\n",
       "    .dataframe thead th {\n",
       "        text-align: right;\n",
       "    }\n",
       "</style>\n",
       "<table border=\"1\" class=\"dataframe\">\n",
       "  <thead>\n",
       "    <tr style=\"text-align: right;\">\n",
       "      <th></th>\n",
       "      <th>Quality</th>\n",
       "      <th>Region</th>\n",
       "    </tr>\n",
       "  </thead>\n",
       "  <tbody>\n",
       "    <tr>\n",
       "      <th>Quality</th>\n",
       "      <td>1.000000</td>\n",
       "      <td>0.507049</td>\n",
       "    </tr>\n",
       "    <tr>\n",
       "      <th>Region</th>\n",
       "      <td>0.507049</td>\n",
       "      <td>1.000000</td>\n",
       "    </tr>\n",
       "  </tbody>\n",
       "</table>\n",
       "</div>"
      ],
      "text/plain": [
       "          Quality    Region\n",
       "Quality  1.000000  0.507049\n",
       "Region   0.507049  1.000000"
      ]
     },
     "execution_count": 57,
     "metadata": {},
     "output_type": "execute_result"
    },
    {
     "data": {
      "image/png": "[encoded data removed]",
      "text/plain": [
       "<Figure size 432x288 with 1 Axes>"
      ]
     },
     "metadata": {
      "needs_background": "light"
     },
     "output_type": "display_data"
    }
   ],
   "source": [
    "# Plot for Quality vs Region\n",
    "wine.plot.scatter(x = 'Quality', y = 'Region')\n",
    "wine[['Quality','Region']].corr()\n",
    "# Low relevance"
   ]
  },
  {
   "cell_type": "code",
   "execution_count": 148,
   "id": "52835074",
   "metadata": {},
   "outputs": [
    {
     "name": "stdout",
     "output_type": "stream",
     "text": [
      "                            OLS Regression Results                            \n",
      "==============================================================================\n",
      "Dep. Variable:                Clarity   R-squared:                       0.001\n",
      "Model:                            OLS   Adj. R-squared:                 -0.027\n",
      "Method:                 Least Squares   F-statistic:                   0.02914\n",
      "Date:                Mon, 20 Feb 2023   Prob (F-statistic):              0.865\n",
      "Time:                        14:46:24   Log-Likelihood:                 25.934\n",
      "No. Observations:                  38   AIC:                            -47.87\n",
      "Df Residuals:                      36   BIC:                            -44.59\n",
      "Df Model:                           1                                         \n",
      "Covariance Type:            nonrobust                                         \n",
      "==============================================================================\n",
      "                 coef    std err          t      P>|t|      [0.025      0.975]\n",
      "------------------------------------------------------------------------------\n",
      "Intercept      0.9022      0.127      7.091      0.000       0.644       1.160\n",
      "Quality        0.0017      0.010      0.171      0.865      -0.019       0.022\n",
      "==============================================================================\n",
      "Omnibus:                       18.125   Durbin-Watson:                   1.343\n",
      "Prob(Omnibus):                  0.000   Jarque-Bera (JB):               21.644\n",
      "Skew:                          -1.577   Prob(JB):                     2.00e-05\n",
      "Kurtosis:                       4.929   Cond. No.                         79.1\n",
      "==============================================================================\n",
      "\n",
      "Notes:\n",
      "[1] Standard Errors assume that the covariance matrix of the errors is correctly specified.\n"
     ]
    },
    {
     "data": {
      "image/png": "[encoded data removed]",
      "text/plain": [
       "<Figure size 576x432 with 1 Axes>"
      ]
     },
     "metadata": {
      "needs_background": "light"
     },
     "output_type": "display_data"
    }
   ],
   "source": [
    "# Create model for Quality vs Clarity\n",
    "model1 = ols('Clarity ~ Quality',data=wine).fit()\n",
    "# View model summary\n",
    "print(model1.summary())\n",
    "# Plot model\n",
    "fig, ax = plot.subplots(figsize=(8, 6))\n",
    "ax.plot(X, y, \"o\", label=\"data\")\n",
    "ax.plot(X, model1.fittedvalues, \"r-\", label=\"OLS\")\n",
    "ax.legend(loc=\"best\")\n",
    "plot.show()"
   ]
  },
  {
   "cell_type": "code",
   "execution_count": 135,
   "id": "c1c5aef9",
   "metadata": {},
   "outputs": [
    {
     "name": "stdout",
     "output_type": "stream",
     "text": [
      "                            OLS Regression Results                            \n",
      "==============================================================================\n",
      "Dep. Variable:                  Aroma   R-squared:                       0.500\n",
      "Model:                            OLS   Adj. R-squared:                  0.486\n",
      "Method:                 Least Squares   F-statistic:                     36.04\n",
      "Date:                Mon, 20 Feb 2023   Prob (F-statistic):           6.87e-07\n",
      "Time:                        14:38:00   Log-Likelihood:                -43.243\n",
      "No. Observations:                  38   AIC:                             90.49\n",
      "Df Residuals:                      36   BIC:                             93.76\n",
      "Df Model:                           1                                         \n",
      "Covariance Type:            nonrobust                                         \n",
      "==============================================================================\n",
      "                 coef    std err          t      P>|t|      [0.025      0.975]\n",
      "------------------------------------------------------------------------------\n",
      "Intercept      0.1917      0.786      0.244      0.809      -1.402       1.785\n",
      "Quality        0.3743      0.062      6.004      0.000       0.248       0.501\n",
      "==============================================================================\n",
      "Omnibus:                        1.295   Durbin-Watson:                   1.822\n",
      "Prob(Omnibus):                  0.523   Jarque-Bera (JB):                0.970\n",
      "Skew:                          -0.055   Prob(JB):                        0.616\n",
      "Kurtosis:                       2.225   Cond. No.                         79.1\n",
      "==============================================================================\n",
      "\n",
      "Notes:\n",
      "[1] Standard Errors assume that the covariance matrix of the errors is correctly specified.\n"
     ]
    },
    {
     "data": {
      "image/png": "[encoded data removed]",
      "text/plain": [
       "<Figure size 576x432 with 1 Axes>"
      ]
     },
     "metadata": {
      "needs_background": "light"
     },
     "output_type": "display_data"
    }
   ],
   "source": [
    "# Create model for Quality vs Aroma\n",
    "model2 = ols('Aroma ~ Quality',data=wine).fit()\n",
    "# View model summary\n",
    "print(model2.summary())\n",
    "# Plot model\n",
    "fig, ax = plot.subplots(figsize=(8, 6))\n",
    "ax.plot(X, y, \"o\", label=\"data\")\n",
    "ax.plot(X, model2.fittedvalues, \"r-\", label=\"OLS\")\n",
    "ax.legend(loc=\"best\")\n",
    "plot.show()"
   ]
  },
  {
   "cell_type": "code",
   "execution_count": 71,
   "id": "d4d6df06",
   "metadata": {},
   "outputs": [
    {
     "name": "stdout",
     "output_type": "stream",
     "text": [
      "                            OLS Regression Results                            \n",
      "==============================================================================\n",
      "Dep. Variable:                   Body   R-squared:                       0.301\n",
      "Model:                            OLS   Adj. R-squared:                  0.282\n",
      "Method:                 Least Squares   F-statistic:                     15.51\n",
      "Date:                Mon, 20 Feb 2023   Prob (F-statistic):           0.000361\n",
      "Time:                        12:16:15   Log-Likelihood:                -39.257\n",
      "No. Observations:                  38   AIC:                             82.51\n",
      "Df Residuals:                      36   BIC:                             85.79\n",
      "Df Model:                           1                                         \n",
      "Covariance Type:            nonrobust                                         \n",
      "==============================================================================\n",
      "                 coef    std err          t      P>|t|      [0.025      0.975]\n",
      "------------------------------------------------------------------------------\n",
      "Intercept      1.9346      0.707      2.735      0.010       0.500       3.369\n",
      "Quality        0.2211      0.056      3.938      0.000       0.107       0.335\n",
      "==============================================================================\n",
      "Omnibus:                        1.934   Durbin-Watson:                   2.097\n",
      "Prob(Omnibus):                  0.380   Jarque-Bera (JB):                1.136\n",
      "Skew:                          -0.407   Prob(JB):                        0.567\n",
      "Kurtosis:                       3.235   Cond. No.                         79.1\n",
      "==============================================================================\n",
      "\n",
      "Notes:\n",
      "[1] Standard Errors assume that the covariance matrix of the errors is correctly specified.\n"
     ]
    },
    {
     "data": {
      "image/png": "[encoded data removed]",
      "text/plain": [
       "<Figure size 576x432 with 1 Axes>"
      ]
     },
     "metadata": {
      "needs_background": "light"
     },
     "output_type": "display_data"
    }
   ],
   "source": [
    "# Create model for Quality vs Body\n",
    "model3 = ols('Body ~ Quality',data=wine).fit()\n",
    "# View model summary\n",
    "print(model3.summary())\n",
    "# Plot model\n",
    "fig, ax = plot.subplots(figsize=(8, 6))\n",
    "ax.plot(X, y, \"o\", label=\"data\")\n",
    "ax.plot(X, model3.fittedvalues, \"r-\", label=\"OLS\")\n",
    "ax.legend(loc=\"best\")\n",
    "plot.show()"
   ]
  },
  {
   "cell_type": "code",
   "execution_count": 74,
   "id": "1ede996b",
   "metadata": {},
   "outputs": [
    {
     "name": "stdout",
     "output_type": "stream",
     "text": [
      "                            OLS Regression Results                            \n",
      "==============================================================================\n",
      "Dep. Variable:                 Flavor   R-squared:                       0.624\n",
      "Model:                            OLS   Adj. R-squared:                  0.614\n",
      "Method:                 Least Squares   F-statistic:                     59.79\n",
      "Date:                Mon, 20 Feb 2023   Prob (F-statistic):           3.68e-09\n",
      "Time:                        12:17:20   Log-Likelihood:                -35.869\n",
      "No. Observations:                  38   AIC:                             75.74\n",
      "Df Residuals:                      36   BIC:                             79.01\n",
      "Df Model:                           1                                         \n",
      "Covariance Type:            nonrobust                                         \n",
      "==============================================================================\n",
      "                 coef    std err          t      P>|t|      [0.025      0.975]\n",
      "------------------------------------------------------------------------------\n",
      "Intercept     -0.1701      0.647     -0.263      0.794      -1.482       1.142\n",
      "Quality        0.3971      0.051      7.732      0.000       0.293       0.501\n",
      "==============================================================================\n",
      "Omnibus:                        1.929   Durbin-Watson:                   1.440\n",
      "Prob(Omnibus):                  0.381   Jarque-Bera (JB):                1.737\n",
      "Skew:                          -0.416   Prob(JB):                        0.420\n",
      "Kurtosis:                       2.363   Cond. No.                         79.1\n",
      "==============================================================================\n",
      "\n",
      "Notes:\n",
      "[1] Standard Errors assume that the covariance matrix of the errors is correctly specified.\n"
     ]
    },
    {
     "data": {
      "image/png": "[encoded data removed]",
      "text/plain": [
       "<Figure size 576x432 with 1 Axes>"
      ]
     },
     "metadata": {
      "needs_background": "light"
     },
     "output_type": "display_data"
    }
   ],
   "source": [
    "# Create model for Quality vs Flavor\n",
    "model4 = ols('Flavor ~ Quality',data=wine).fit()\n",
    "# View model summary\n",
    "print(model4.summary())\n",
    "# Plot model\n",
    "fig, ax = plot.subplots(figsize=(8, 6))\n",
    "ax.plot(X, y, \"o\", label=\"data\")\n",
    "ax.plot(X, model4.fittedvalues, \"r-\", label=\"OLS\")\n",
    "ax.legend(loc=\"best\")\n",
    "plot.show()"
   ]
  },
  {
   "cell_type": "code",
   "execution_count": 75,
   "id": "5bce482a",
   "metadata": {
    "scrolled": true
   },
   "outputs": [
    {
     "name": "stdout",
     "output_type": "stream",
     "text": [
      "                            OLS Regression Results                            \n",
      "==============================================================================\n",
      "Dep. Variable:               Oakiness   R-squared:                       0.002\n",
      "Model:                            OLS   Adj. R-squared:                 -0.026\n",
      "Method:                 Least Squares   F-statistic:                   0.07984\n",
      "Date:                Mon, 20 Feb 2023   Prob (F-statistic):              0.779\n",
      "Time:                        12:21:05   Log-Likelihood:                -41.828\n",
      "No. Observations:                  38   AIC:                             87.66\n",
      "Df Residuals:                      36   BIC:                             90.93\n",
      "Df Model:                           1                                         \n",
      "Covariance Type:            nonrobust                                         \n",
      "==============================================================================\n",
      "                 coef    std err          t      P>|t|      [0.025      0.975]\n",
      "------------------------------------------------------------------------------\n",
      "Intercept      4.4664      0.757      5.901      0.000       2.931       6.001\n",
      "Quality       -0.0170      0.060     -0.283      0.779      -0.139       0.105\n",
      "==============================================================================\n",
      "Omnibus:                        1.062   Durbin-Watson:                   2.156\n",
      "Prob(Omnibus):                  0.588   Jarque-Bera (JB):                1.084\n",
      "Skew:                           0.314   Prob(JB):                        0.581\n",
      "Kurtosis:                       2.462   Cond. No.                         79.1\n",
      "==============================================================================\n",
      "\n",
      "Notes:\n",
      "[1] Standard Errors assume that the covariance matrix of the errors is correctly specified.\n"
     ]
    },
    {
     "data": {
      "image/png": "[encoded data removed]",
      "text/plain": [
       "<Figure size 576x432 with 1 Axes>"
      ]
     },
     "metadata": {
      "needs_background": "light"
     },
     "output_type": "display_data"
    }
   ],
   "source": [
    "# Create model for Quality vs Oakiness\n",
    "model5 = ols('Oakiness ~ Quality',data=wine).fit()\n",
    "# View model summary\n",
    "print(model5.summary())\n",
    "# Plot model\n",
    "fig, ax = plot.subplots(figsize=(8, 6))\n",
    "ax.plot(X, y, \"o\", label=\"data\")\n",
    "ax.plot(X, model5.fittedvalues, \"r-\", label=\"OLS\")\n",
    "ax.legend(loc=\"best\")\n",
    "plot.show()\n",
    "# Line does not go through middle of cluster"
   ]
  },
  {
   "cell_type": "code",
   "execution_count": 76,
   "id": "25a9e88e",
   "metadata": {
    "scrolled": false
   },
   "outputs": [
    {
     "name": "stdout",
     "output_type": "stream",
     "text": [
      "                            OLS Regression Results                            \n",
      "==============================================================================\n",
      "Dep. Variable:                 Region   R-squared:                       0.257\n",
      "Model:                            OLS   Adj. R-squared:                  0.236\n",
      "Method:                 Least Squares   F-statistic:                     12.46\n",
      "Date:                Mon, 20 Feb 2023   Prob (F-statistic):            0.00116\n",
      "Time:                        12:22:07   Log-Likelihood:                -42.702\n",
      "No. Observations:                  38   AIC:                             89.40\n",
      "Df Residuals:                      36   BIC:                             92.68\n",
      "Df Model:                           1                                         \n",
      "Covariance Type:            nonrobust                                         \n",
      "==============================================================================\n",
      "                 coef    std err          t      P>|t|      [0.025      0.975]\n",
      "------------------------------------------------------------------------------\n",
      "Intercept     -0.8300      0.774     -1.072      0.291      -2.401       0.741\n",
      "Quality        0.2170      0.061      3.530      0.001       0.092       0.342\n",
      "==============================================================================\n",
      "Omnibus:                       26.211   Durbin-Watson:                   1.285\n",
      "Prob(Omnibus):                  0.000   Jarque-Bera (JB):                3.778\n",
      "Skew:                          -0.159   Prob(JB):                        0.151\n",
      "Kurtosis:                       1.488   Cond. No.                         79.1\n",
      "==============================================================================\n",
      "\n",
      "Notes:\n",
      "[1] Standard Errors assume that the covariance matrix of the errors is correctly specified.\n"
     ]
    },
    {
     "data": {
      "image/png": "[encoded data removed]",
      "text/plain": [
       "<Figure size 576x432 with 1 Axes>"
      ]
     },
     "metadata": {
      "needs_background": "light"
     },
     "output_type": "display_data"
    }
   ],
   "source": [
    "# Create model for Quality vs Region\n",
    "model6 = ols('Region ~ Quality',data=wine).fit()\n",
    "# View model summary\n",
    "print(model6.summary())\n",
    "# Plot model\n",
    "fig, ax = plot.subplots(figsize=(8, 6))\n",
    "ax.plot(X, y, \"o\", label=\"data\")\n",
    "ax.plot(X, model6.fittedvalues, \"r-\", label=\"OLS\")\n",
    "ax.legend(loc=\"best\")\n",
    "plot.show()\n",
    "# Line does not go through middle of cluster"
   ]
  },
  {
   "cell_type": "code",
   "execution_count": 137,
   "id": "ac89f2bc",
   "metadata": {},
   "outputs": [
    {
     "name": "stdout",
     "output_type": "stream",
     "text": [
      "            sum_sq    df         F    PR(>F)\n",
      "Quality   0.000460   1.0  0.029144  0.865402\n",
      "Residual  0.568224  36.0       NaN       NaN\n",
      "             sum_sq    df          F        PR(>F)\n",
      "Quality   21.690709   1.0  36.044336  6.871033e-07\n",
      "Residual  21.664028  36.0        NaN           NaN\n",
      "            sum_sq    df         F    PR(>F)\n",
      "Quality   0.024147   1.0  1.818513  0.186958\n",
      "Aroma     0.009384   1.0  0.706737  0.406767\n",
      "Body      0.081733   1.0  6.155296  0.018547\n",
      "Flavor    0.010180   1.0  0.766626  0.387788\n",
      "Oakiness  0.037770   1.0  2.844426  0.101418\n",
      "Residual  0.424912  32.0       NaN       NaN\n",
      "            sum_sq    df         F    PR(>F)\n",
      "Quality   0.019430   1.0  1.265589  0.268712\n",
      "Aroma     0.004393   1.0  0.286142  0.596290\n",
      "Flavor    0.042163   1.0  2.746271  0.106960\n",
      "Oakiness  0.032296   1.0  2.103562  0.156396\n",
      "Residual  0.506645  33.0       NaN       NaN\n",
      "             sum_sq    df         F    PR(>F)\n",
      "Quality    0.044597   1.0  0.079838  0.779136\n",
      "Residual  20.109351  36.0       NaN       NaN\n",
      "             sum_sq    df          F    PR(>F)\n",
      "Quality    7.286716   1.0  12.458651  0.001159\n",
      "Residual  21.055390  36.0        NaN       NaN\n"
     ]
    }
   ],
   "source": [
    "# Test significance of each variable\n",
    "table = sm.stats.anova_lm(model1, typ=2)\n",
    "print(table)\n",
    "table = sm.stats.anova_lm(model2, typ=2)\n",
    "print(table)\n",
    "table = sm.stats.anova_lm(model3, typ=2)\n",
    "print(table)\n",
    "# Model 3 Statistically significant\n",
    "table = sm.stats.anova_lm(model4, typ=2)\n",
    "print(table)\n",
    "# Model 4 Statistically significant\n",
    "table = sm.stats.anova_lm(model5, typ=2)\n",
    "print(table)\n",
    "table = sm.stats.anova_lm(model6, typ=2)\n",
    "print(table)"
   ]
  },
  {
   "cell_type": "code",
   "execution_count": 158,
   "id": "2387749a",
   "metadata": {},
   "outputs": [
    {
     "name": "stdout",
     "output_type": "stream",
     "text": [
      "                            OLS Regression Results                            \n",
      "==============================================================================\n",
      "Dep. Variable:                Quality   R-squared:                       0.721\n",
      "Model:                            OLS   Adj. R-squared:                  0.667\n",
      "Method:                 Least Squares   F-statistic:                     13.33\n",
      "Date:                Mon, 20 Feb 2023   Prob (F-statistic):           2.04e-07\n",
      "Time:                        14:53:22   Log-Likelihood:                -56.370\n",
      "No. Observations:                  38   AIC:                             126.7\n",
      "Df Residuals:                      31   BIC:                             138.2\n",
      "Df Model:                           6                                         \n",
      "Covariance Type:            nonrobust                                         \n",
      "==============================================================================\n",
      "                 coef    std err          t      P>|t|      [0.025      0.975]\n",
      "------------------------------------------------------------------------------\n",
      "Intercept      3.9843      2.270      1.755      0.089      -0.645       8.613\n",
      "Clarity        2.3475      1.764      1.331      0.193      -1.249       5.944\n",
      "Aroma          0.4973      0.305      1.629      0.114      -0.125       1.120\n",
      "Body           0.2784      0.341      0.817      0.420      -0.417       0.974\n",
      "Flavor         1.1699      0.310      3.779      0.001       0.538       1.801\n",
      "Oakiness      -0.6923      0.285     -2.431      0.021      -1.273      -0.111\n",
      "Region        -0.0338      0.296     -0.114      0.910      -0.637       0.569\n",
      "==============================================================================\n",
      "Omnibus:                        1.020   Durbin-Watson:                   0.845\n",
      "Prob(Omnibus):                  0.601   Jarque-Bera (JB):                0.911\n",
      "Skew:                          -0.357   Prob(JB):                        0.634\n",
      "Kurtosis:                       2.745   Cond. No.                         137.\n",
      "==============================================================================\n",
      "\n",
      "Notes:\n",
      "[1] Standard Errors assume that the covariance matrix of the errors is correctly specified.\n"
     ]
    }
   ],
   "source": [
    "# Fit multiple linear regression of Clarity on Quality\n",
    "model12 = ols('Quality ~ Clarity + Aroma + Body + Flavor + Oakiness + Region',data=wine).fit()\n",
    "print(model12.summary())\n",
    "# Reject hypothesis for Region, Body, Clarity"
   ]
  },
  {
   "cell_type": "code",
   "execution_count": 139,
   "id": "ef31795e",
   "metadata": {},
   "outputs": [
    {
     "name": "stdout",
     "output_type": "stream",
     "text": [
      "                            OLS Regression Results                            \n",
      "==============================================================================\n",
      "Dep. Variable:                 Region   R-squared:                       0.265\n",
      "Model:                            OLS   Adj. R-squared:                  0.200\n",
      "Method:                 Least Squares   F-statistic:                     4.084\n",
      "Date:                Mon, 20 Feb 2023   Prob (F-statistic):             0.0140\n",
      "Time:                        14:38:27   Log-Likelihood:                -42.501\n",
      "No. Observations:                  38   AIC:                             93.00\n",
      "Df Residuals:                      34   BIC:                             99.55\n",
      "Df Model:                           3                                         \n",
      "Covariance Type:            nonrobust                                         \n",
      "===================================================================================\n",
      "                      coef    std err          t      P>|t|      [0.025      0.975]\n",
      "-----------------------------------------------------------------------------------\n",
      "Intercept           2.8288      6.346      0.446      0.659     -10.069      15.726\n",
      "Quality            -0.0617      0.510     -0.121      0.904      -1.097       0.974\n",
      "Clarity            -4.1186      7.093     -0.581      0.565     -18.532      10.295\n",
      "Quality:Clarity     0.3142      0.569      0.552      0.585      -0.843       1.471\n",
      "==============================================================================\n",
      "Omnibus:                       20.279   Durbin-Watson:                   1.283\n",
      "Prob(Omnibus):                  0.000   Jarque-Bera (JB):                3.457\n",
      "Skew:                          -0.145   Prob(JB):                        0.178\n",
      "Kurtosis:                       1.551   Cond. No.                     1.29e+03\n",
      "==============================================================================\n",
      "\n",
      "Notes:\n",
      "[1] Standard Errors assume that the covariance matrix of the errors is correctly specified.\n",
      "[2] The condition number is large, 1.29e+03. This might indicate that there are\n",
      "strong multicollinearity or other numerical problems.\n",
      "   df_resid        ssr  df_diff  ss_diff         F    Pr(>F)\n",
      "0      36.0  21.055390      0.0      NaN       NaN       NaN\n",
      "1      34.0  20.834419      2.0  0.22097  0.180302  0.835811\n",
      "                            OLS Regression Results                            \n",
      "==============================================================================\n",
      "Dep. Variable:                 Region   R-squared:                       0.417\n",
      "Model:                            OLS   Adj. R-squared:                  0.366\n",
      "Method:                 Least Squares   F-statistic:                     8.122\n",
      "Date:                Mon, 20 Feb 2023   Prob (F-statistic):           0.000327\n",
      "Time:                        14:38:27   Log-Likelihood:                -38.081\n",
      "No. Observations:                  38   AIC:                             84.16\n",
      "Df Residuals:                      34   BIC:                             90.71\n",
      "Df Model:                           3                                         \n",
      "Covariance Type:            nonrobust                                         \n",
      "=================================================================================\n",
      "                    coef    std err          t      P>|t|      [0.025      0.975]\n",
      "---------------------------------------------------------------------------------\n",
      "Intercept         3.1349      3.522      0.890      0.380      -4.022      10.292\n",
      "Quality          -0.2382      0.265     -0.898      0.375      -0.777       0.301\n",
      "Aroma            -0.4800      0.784     -0.612      0.545      -2.074       1.114\n",
      "Quality:Aroma     0.0651      0.055      1.173      0.249      -0.048       0.178\n",
      "==============================================================================\n",
      "Omnibus:                        7.449   Durbin-Watson:                   1.456\n",
      "Prob(Omnibus):                  0.024   Jarque-Bera (JB):                2.342\n",
      "Skew:                           0.137   Prob(JB):                        0.310\n",
      "Kurtosis:                       1.815   Cond. No.                     2.14e+03\n",
      "==============================================================================\n",
      "\n",
      "Notes:\n",
      "[1] Standard Errors assume that the covariance matrix of the errors is correctly specified.\n",
      "[2] The condition number is large, 2.14e+03. This might indicate that there are\n",
      "strong multicollinearity or other numerical problems.\n",
      "   df_resid        ssr  df_diff   ss_diff         F    Pr(>F)\n",
      "0      36.0  21.055390      0.0       NaN       NaN       NaN\n",
      "1      34.0  16.510402      2.0  4.544988  4.679764  0.016022\n",
      "                            OLS Regression Results                            \n",
      "==============================================================================\n",
      "Dep. Variable:                 Region   R-squared:                       0.318\n",
      "Model:                            OLS   Adj. R-squared:                  0.258\n",
      "Method:                 Least Squares   F-statistic:                     5.278\n",
      "Date:                Mon, 20 Feb 2023   Prob (F-statistic):            0.00426\n",
      "Time:                        14:38:27   Log-Likelihood:                -41.084\n",
      "No. Observations:                  38   AIC:                             90.17\n",
      "Df Residuals:                      34   BIC:                             96.72\n",
      "Df Model:                           3                                         \n",
      "Covariance Type:            nonrobust                                         \n",
      "================================================================================\n",
      "                   coef    std err          t      P>|t|      [0.025      0.975]\n",
      "--------------------------------------------------------------------------------\n",
      "Intercept        3.2267      4.115      0.784      0.438      -5.135      11.589\n",
      "Quality         -0.2106      0.342     -0.616      0.542      -0.905       0.484\n",
      "Body            -0.7164      0.870     -0.823      0.416      -2.485       1.052\n",
      "Quality:Body     0.0780      0.070      1.122      0.270      -0.063       0.219\n",
      "==============================================================================\n",
      "Omnibus:                       16.624   Durbin-Watson:                   1.428\n",
      "Prob(Omnibus):                  0.000   Jarque-Bera (JB):                3.126\n",
      "Skew:                          -0.057   Prob(JB):                        0.210\n",
      "Kurtosis:                       1.600   Cond. No.                     2.17e+03\n",
      "==============================================================================\n",
      "\n",
      "Notes:\n",
      "[1] Standard Errors assume that the covariance matrix of the errors is correctly specified.\n",
      "[2] The condition number is large, 2.17e+03. This might indicate that there are\n",
      "strong multicollinearity or other numerical problems.\n",
      "   df_resid        ssr  df_diff   ss_diff         F    Pr(>F)\n",
      "0      36.0  21.055390      0.0       NaN       NaN       NaN\n",
      "1      34.0  19.337278      2.0  1.718111  1.510445  0.235258\n",
      "                            OLS Regression Results                            \n",
      "==============================================================================\n",
      "Dep. Variable:                 Region   R-squared:                       0.341\n",
      "Model:                            OLS   Adj. R-squared:                  0.283\n",
      "Method:                 Least Squares   F-statistic:                     5.875\n",
      "Date:                Mon, 20 Feb 2023   Prob (F-statistic):            0.00241\n",
      "Time:                        14:38:27   Log-Likelihood:                -40.413\n",
      "No. Observations:                  38   AIC:                             88.83\n",
      "Df Residuals:                      34   BIC:                             95.38\n",
      "Df Model:                           3                                         \n",
      "Covariance Type:            nonrobust                                         \n",
      "==================================================================================\n",
      "                     coef    std err          t      P>|t|      [0.025      0.975]\n",
      "----------------------------------------------------------------------------------\n",
      "Intercept          3.8908      2.882      1.350      0.186      -1.966       9.748\n",
      "Quality           -0.2492      0.241     -1.033      0.309      -0.740       0.241\n",
      "Flavor            -0.8211      0.659     -1.246      0.221      -2.160       0.518\n",
      "Quality:Flavor     0.0820      0.049      1.682      0.102      -0.017       0.181\n",
      "==============================================================================\n",
      "Omnibus:                        9.547   Durbin-Watson:                   1.483\n",
      "Prob(Omnibus):                  0.008   Jarque-Bera (JB):                2.570\n",
      "Skew:                           0.116   Prob(JB):                        0.277\n",
      "Kurtosis:                       1.747   Cond. No.                     1.62e+03\n",
      "==============================================================================\n",
      "\n",
      "Notes:\n",
      "[1] Standard Errors assume that the covariance matrix of the errors is correctly specified.\n",
      "[2] The condition number is large, 1.62e+03. This might indicate that there are\n",
      "strong multicollinearity or other numerical problems.\n",
      "   df_resid        ssr  df_diff   ss_diff         F    Pr(>F)\n",
      "0      36.0  21.055390      0.0       NaN       NaN       NaN\n",
      "1      34.0  18.665676      2.0  2.389714  2.176462  0.128993\n",
      "                            OLS Regression Results                            \n",
      "==============================================================================\n",
      "Dep. Variable:                 Region   R-squared:                       0.271\n",
      "Model:                            OLS   Adj. R-squared:                  0.206\n",
      "Method:                 Least Squares   F-statistic:                     4.209\n",
      "Date:                Mon, 20 Feb 2023   Prob (F-statistic):             0.0123\n",
      "Time:                        14:38:27   Log-Likelihood:                -42.347\n",
      "No. Observations:                  38   AIC:                             92.69\n",
      "Df Residuals:                      34   BIC:                             99.25\n",
      "Df Model:                           3                                         \n",
      "Covariance Type:            nonrobust                                         \n",
      "====================================================================================\n",
      "                       coef    std err          t      P>|t|      [0.025      0.975]\n",
      "------------------------------------------------------------------------------------\n",
      "Intercept            3.2781      5.263      0.623      0.538      -7.417      13.973\n",
      "Quality             -0.1124      0.436     -0.258      0.798      -0.998       0.774\n",
      "Oakiness            -0.9882      1.254     -0.788      0.436      -3.536       1.560\n",
      "Quality:Oakiness     0.0793      0.104      0.762      0.452      -0.132       0.291\n",
      "==============================================================================\n",
      "Omnibus:                       25.220   Durbin-Watson:                   1.329\n",
      "Prob(Omnibus):                  0.000   Jarque-Bera (JB):                3.891\n",
      "Skew:                          -0.227   Prob(JB):                        0.143\n",
      "Kurtosis:                       1.500   Cond. No.                     2.39e+03\n",
      "==============================================================================\n",
      "\n",
      "Notes:\n",
      "[1] Standard Errors assume that the covariance matrix of the errors is correctly specified.\n",
      "[2] The condition number is large, 2.39e+03. This might indicate that there are\n",
      "strong multicollinearity or other numerical problems.\n"
     ]
    },
    {
     "name": "stdout",
     "output_type": "stream",
     "text": [
      "   df_resid        ssr  df_diff   ss_diff         F    Pr(>F)\n",
      "0      36.0  21.055390      0.0       NaN       NaN       NaN\n",
      "1      34.0  20.666561      2.0  0.388828  0.319844  0.728423\n"
     ]
    }
   ],
   "source": [
    "# Test each variables interaction with Region\n",
    "model7= ols('Region ~ Quality + Clarity + Quality:Clarity',data=wine).fit()\n",
    "print(model7.summary())\n",
    "print(sm.stats.anova_lm(model6, model7, typ=1))\n",
    "\n",
    "model8 = ols('Region ~ Quality + Aroma + Quality:Aroma',data=wine).fit()\n",
    "print(model8.summary())\n",
    "print(sm.stats.anova_lm(model6, model8, typ=1))\n",
    "\n",
    "model9 = ols('Region ~ Quality + Body + Quality:Body',data=wine).fit()\n",
    "print(model9.summary())\n",
    "print(sm.stats.anova_lm(model6, model9, typ=1))\n",
    "\n",
    "model10 = ols('Region ~ Quality + Flavor + Quality:Flavor',data=wine).fit()\n",
    "print(model10.summary())\n",
    "print(sm.stats.anova_lm(model6, model10, typ=1))\n",
    "\n",
    "model11 = ols('Region ~ Quality + Oakiness + Quality:Oakiness',data=wine).fit()\n",
    "print(model11.summary())\n",
    "print(sm.stats.anova_lm(model6, model11, typ=1))"
   ]
  },
  {
   "cell_type": "code",
   "execution_count": 165,
   "id": "398e9dc8",
   "metadata": {},
   "outputs": [
    {
     "name": "stdout",
     "output_type": "stream",
     "text": [
      "                            OLS Regression Results                            \n",
      "==============================================================================\n",
      "Dep. Variable:                Quality   R-squared:                       0.704\n",
      "Model:                            OLS   Adj. R-squared:                  0.678\n",
      "Method:                 Least Squares   F-statistic:                     26.92\n",
      "Date:                Mon, 20 Feb 2023   Prob (F-statistic):           4.20e-09\n",
      "Time:                        15:01:38   Log-Likelihood:                -57.489\n",
      "No. Observations:                  38   AIC:                             123.0\n",
      "Df Residuals:                      34   BIC:                             129.5\n",
      "Df Model:                           3                                         \n",
      "Covariance Type:            nonrobust                                         \n",
      "==============================================================================\n",
      "                 coef    std err          t      P>|t|      [0.025      0.975]\n",
      "------------------------------------------------------------------------------\n",
      "Intercept      6.4672      1.333      4.852      0.000       3.759       9.176\n",
      "Aroma          0.5801      0.262      2.213      0.034       0.047       1.113\n",
      "Flavor         1.1997      0.275      4.364      0.000       0.641       1.758\n",
      "Oakiness      -0.6023      0.264     -2.278      0.029      -1.140      -0.065\n",
      "==============================================================================\n",
      "Omnibus:                        0.955   Durbin-Watson:                   0.837\n",
      "Prob(Omnibus):                  0.620   Jarque-Bera (JB):                0.964\n",
      "Skew:                          -0.338   Prob(JB):                        0.618\n",
      "Kurtosis:                       2.611   Cond. No.                         58.6\n",
      "==============================================================================\n",
      "\n",
      "Notes:\n",
      "[1] Standard Errors assume that the covariance matrix of the errors is correctly specified.\n"
     ]
    }
   ],
   "source": [
    "# Best model\n",
    "# Drop Clarity, Body, and Region\n",
    "model13 = ols('Quality ~ Aroma + Flavor + Oakiness',data=wine).fit()\n",
    "print(model13.summary())"
   ]
  }
 ],
 "metadata": {
  "kernelspec": {
   "display_name": "Python 3 (ipykernel)",
   "language": "python",
   "name": "python3"
  },
  "language_info": {
   "codemirror_mode": {
    "name": "ipython",
    "version": 3
   },
   "file_extension": ".py",
   "mimetype": "text/x-python",
   "name": "python",
   "nbconvert_exporter": "python",
   "pygments_lexer": "ipython3",
   "version": "3.9.12"
  }
 },
 "nbformat": 4,
 "nbformat_minor": 5
}
